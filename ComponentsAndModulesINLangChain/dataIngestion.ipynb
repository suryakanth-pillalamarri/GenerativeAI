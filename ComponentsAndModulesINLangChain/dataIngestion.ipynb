{
 "cells": [
  {
   "cell_type": "code",
   "execution_count": 7,
   "metadata": {},
   "outputs": [],
   "source": [
    "from langchain_community.document_loaders import TextLoader\n",
    "from langchain_community.document_loaders import PyPDFLoader"
   ]
  },
  {
   "cell_type": "markdown",
   "metadata": {},
   "source": [
    "## Loading the text document using the text loader in langchain"
   ]
  },
  {
   "cell_type": "code",
   "execution_count": 9,
   "metadata": {},
   "outputs": [
    {
     "data": {
      "text/plain": [
       "[Document(metadata={'source': 'D:\\\\Surya files\\\\GenerativeAI\\\\GenerativeAI\\\\ComponentsAndModulesINLangChain\\\\input\\\\tyagayya.txt'}, page_content='Tyagaraja (1767–1847) was a prominent Indian composer and musician, widely regarded as one of the greatest composers in the Carnatic music tradition. He was born in the town of Thiruvarur in Tamil Nadu, India, into a family of musicians. His father, Ramabrahmam, was a musician and a devotee of Lord Rama, which greatly influenced Tyagaraja\\'s life and work.\\n\\nFrom a young age, Tyagaraja showed exceptional musical talent and a deep devotion to Lord Rama. His compositions, primarily in Telugu, reflect his spiritual beliefs and his love for the divine. He is best known for his devotional songs, known as \"kritis,\" which are characterized by their lyrical beauty and intricate melodies. Many of his compositions are dedicated to Lord Rama, and he often expressed his longing for a personal connection with the deity.\\n\\nTyagaraja\\'s life was marked by both personal struggles and artistic achievements. He faced challenges, including the loss of his family members and financial difficulties. Despite these hardships, he remained committed to his music and spirituality. He traveled extensively across South India, performing and sharing his compositions with various audiences.\\n\\nOne of the most significant aspects of Tyagaraja\\'s legacy is his contribution to the development of the Carnatic music tradition. He is credited with popularizing the \"kriti\" format, which became a standard in Carnatic music. His compositions are still performed and revered by musicians and music lovers today.\\n\\nTyagaraja\\'s influence extended beyond his lifetime. He established a musical lineage that continues to thrive, and his works have inspired countless musicians. The annual Tyagaraja Aradhana festival, held in Thiruvarur, attracts thousands of devotees and musicians who come together to celebrate his life and music.\\n\\nIn summary, Tyagaraja was not only a remarkable composer but also a spiritual figure whose devotion and artistry have left an indelible mark on Indian classical music. His life and works continue to inspire generations, making him a central figure in the rich tapestry of Carnatic music.')]"
      ]
     },
     "execution_count": 9,
     "metadata": {},
     "output_type": "execute_result"
    }
   ],
   "source": [
    "txt_loader=TextLoader(r\"D:\\Surya files\\GenerativeAI\\GenerativeAI\\ComponentsAndModulesINLangChain\\input\\tyagayya.txt\")\n",
    "txt_loader.load()"
   ]
  },
  {
   "cell_type": "markdown",
   "metadata": {},
   "source": [
    "## Loading the pdf document using pypdfloader in langchain"
   ]
  },
  {
   "cell_type": "code",
   "execution_count": 13,
   "metadata": {},
   "outputs": [
    {
     "data": {
      "text/plain": [
       "[Document(metadata={'source': 'D:\\\\Surya files\\\\GenerativeAI\\\\GenerativeAI\\\\ComponentsAndModulesINLangChain\\\\input\\\\Tyagaraja.pdf', 'page': 0}, page_content='Tyagaraja (1767 –1847) was a prominent Indian composer and musician, widely regarded as one of \\nthe greatest composers in the Carnatic music tradition. He was born in the town of Thiruvarur in \\nTamil Nadu, India, into a family of musicians. His father, Ramabr ahmam, was a musician and a \\ndevotee of Lord Rama, which greatly influenced Tyagaraja\\'s life and work.  \\n \\nFrom a young age, Tyagaraja showed exceptional musical talent and a deep devotion to Lord Rama. \\nHis compositions, primarily in Telugu, reflect his spiritual beliefs and his love for the divine. He is best \\nknown for his devotional songs, known as \"kritis,\" which are characterized by their lyrical beauty and \\nintricate melodies. Many of his compositions are dedicated to Lord Rama, and he often expressed his \\nlonging for a personal connection with the deity.  \\n \\nTyagaraja\\'s life was marked by both personal struggles and artistic achievements. He faced \\nchallenges, including the loss of his family members and financial difficulties. Despite these \\nhardships, he remained committed to his music and spirituality. He tra veled extensively across South \\nIndia, performing and sharing his compositions with various audiences.  \\n \\nOne of the most significant aspects of Tyagaraja\\'s legacy is his contribution to the development of \\nthe Carnatic music tradition. He is credited with popularizing the \"kriti\" format, which became a \\nstandard in Carnatic music. His compositions are still per formed and revered by musicians and music \\nlovers today.  \\n \\nTyagaraja\\'s influence extended beyond his lifetime. He established a musical lineage that continues \\nto thrive, and his works have inspired countless musicians. The annual Tyagaraja Aradhana festival, \\nheld in Thiruvarur, attracts thousands of devotees and m usicians who come together to celebrate his \\nlife and music.  \\n \\nIn summary, Tyagaraja was not only a remarkable composer but also a spiritual figure whose \\ndevotion and artistry have left an indelible mark on Indian classical music. His life and works continue \\nto inspire generations, making him a central figure in the r ich tapestry of Carnatic music.  ')]"
      ]
     },
     "execution_count": 13,
     "metadata": {},
     "output_type": "execute_result"
    }
   ],
   "source": [
    "pdf_loader=PyPDFLoader(r\"D:\\Surya files\\GenerativeAI\\GenerativeAI\\ComponentsAndModulesINLangChain\\input\\Tyagaraja.pdf\")\n",
    "\n",
    "docs=pdf_loader.load()\n",
    "docs"
   ]
  }
 ],
 "metadata": {
  "kernelspec": {
   "display_name": "base",
   "language": "python",
   "name": "python3"
  },
  "language_info": {
   "codemirror_mode": {
    "name": "ipython",
    "version": 3
   },
   "file_extension": ".py",
   "mimetype": "text/x-python",
   "name": "python",
   "nbconvert_exporter": "python",
   "pygments_lexer": "ipython3",
   "version": "3.9.13"
  }
 },
 "nbformat": 4,
 "nbformat_minor": 2
}

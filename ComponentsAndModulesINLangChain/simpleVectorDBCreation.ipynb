{
 "cells": [
  {
   "cell_type": "code",
   "execution_count": 2,
   "metadata": {},
   "outputs": [],
   "source": [
    "from langchain_chroma import Chroma\n",
    "from langchain_community.document_loaders import TextLoader\n",
    "from langchain_community.embeddings import OllamaEmbeddings\n",
    "from langchain_text_splitters import RecursiveCharacterTextSplitter\n",
    "import ollama\n"
   ]
  },
  {
   "cell_type": "markdown",
   "metadata": {},
   "source": [
    "## loading text data from the text file initial step"
   ]
  },
  {
   "cell_type": "code",
   "execution_count": 4,
   "metadata": {},
   "outputs": [
    {
     "data": {
      "text/plain": [
       "[Document(metadata={'source': 'D:\\\\Surya files\\\\GenerativeAI\\\\GenerativeAI\\\\ComponentsAndModulesINLangChain\\\\input\\\\tyagayya.txt'}, page_content='Tyagaraja (1767â€“1847) was a prominent Indian composer and musician, widely regarded as one of the greatest composers in the Carnatic music tradition. He was born in the town of Thiruvarur in Tamil Nadu, India, into a family of musicians. His father, Ramabrahmam, was a musician and a devotee of Lord Rama, which greatly influenced Tyagaraja\\'s life and work.\\n\\nFrom a young age, Tyagaraja showed exceptional musical talent and a deep devotion to Lord Rama. His compositions, primarily in Telugu, reflect his spiritual beliefs and his love for the divine. He is best known for his devotional songs, known as \"kritis,\" which are characterized by their lyrical beauty and intricate melodies. Many of his compositions are dedicated to Lord Rama, and he often expressed his longing for a personal connection with the deity.\\n\\nTyagaraja\\'s life was marked by both personal struggles and artistic achievements. He faced challenges, including the loss of his family members and financial difficulties. Despite these hardships, he remained committed to his music and spirituality. He traveled extensively across South India, performing and sharing his compositions with various audiences.\\n\\nOne of the most significant aspects of Tyagaraja\\'s legacy is his contribution to the development of the Carnatic music tradition. He is credited with popularizing the \"kriti\" format, which became a standard in Carnatic music. His compositions are still performed and revered by musicians and music lovers today.\\n\\nTyagaraja\\'s influence extended beyond his lifetime. He established a musical lineage that continues to thrive, and his works have inspired countless musicians. The annual Tyagaraja Aradhana festival, held in Thiruvarur, attracts thousands of devotees and musicians who come together to celebrate his life and music.\\n\\nIn summary, Tyagaraja was not only a remarkable composer but also a spiritual figure whose devotion and artistry have left an indelible mark on Indian classical music. His life and works continue to inspire generations, making him a central figure in the rich tapestry of Carnatic music.')]"
      ]
     },
     "execution_count": 4,
     "metadata": {},
     "output_type": "execute_result"
    }
   ],
   "source": [
    "txt_loader=TextLoader(r\"D:\\Surya files\\GenerativeAI\\GenerativeAI\\ComponentsAndModulesINLangChain\\input\\tyagayya.txt\")\n",
    "data=txt_loader.load()\n",
    "data"
   ]
  },
  {
   "cell_type": "code",
   "execution_count": 7,
   "metadata": {},
   "outputs": [],
   "source": [
    "speech=\"\"\n",
    "with open(r\"D:\\Surya files\\GenerativeAI\\GenerativeAI\\ComponentsAndModulesINLangChain\\input\\tyagayya.txt\") as f:\n",
    "    speech=f.read()"
   ]
  },
  {
   "cell_type": "markdown",
   "metadata": {},
   "source": [
    "## Split the text data in to chunks using recurcide splitter"
   ]
  },
  {
   "cell_type": "code",
   "execution_count": 10,
   "metadata": {},
   "outputs": [
    {
     "data": {
      "text/plain": [
       "[Document(page_content='Tyagaraja (1767â€“1847) was a prominent Indian composer and musician, widely regarded as one of the greatest composers in the Carnatic music tradition. He was born in the town of Thiruvarur in Tamil'),\n",
       " Document(page_content=\"Thiruvarur in Tamil Nadu, India, into a family of musicians. His father, Ramabrahmam, was a musician and a devotee of Lord Rama, which greatly influenced Tyagaraja's life and work.\"),\n",
       " Document(page_content='From a young age, Tyagaraja showed exceptional musical talent and a deep devotion to Lord Rama. His compositions, primarily in Telugu, reflect his spiritual beliefs and his love for the divine. He is'),\n",
       " Document(page_content='the divine. He is best known for his devotional songs, known as \"kritis,\" which are characterized by their lyrical beauty and intricate melodies. Many of his compositions are dedicated to Lord Rama,'),\n",
       " Document(page_content='to Lord Rama, and he often expressed his longing for a personal connection with the deity.'),\n",
       " Document(page_content=\"Tyagaraja's life was marked by both personal struggles and artistic achievements. He faced challenges, including the loss of his family members and financial difficulties. Despite these hardships, he\"),\n",
       " Document(page_content='these hardships, he remained committed to his music and spirituality. He traveled extensively across South India, performing and sharing his compositions with various audiences.'),\n",
       " Document(page_content='One of the most significant aspects of Tyagaraja\\'s legacy is his contribution to the development of the Carnatic music tradition. He is credited with popularizing the \"kriti\" format, which became a'),\n",
       " Document(page_content='which became a standard in Carnatic music. His compositions are still performed and revered by musicians and music lovers today.'),\n",
       " Document(page_content=\"Tyagaraja's influence extended beyond his lifetime. He established a musical lineage that continues to thrive, and his works have inspired countless musicians. The annual Tyagaraja Aradhana festival,\"),\n",
       " Document(page_content='Aradhana festival, held in Thiruvarur, attracts thousands of devotees and musicians who come together to celebrate his life and music.'),\n",
       " Document(page_content='In summary, Tyagaraja was not only a remarkable composer but also a spiritual figure whose devotion and artistry have left an indelible mark on Indian classical music. His life and works continue to'),\n",
       " Document(page_content='works continue to inspire generations, making him a central figure in the rich tapestry of Carnatic music.')]"
      ]
     },
     "execution_count": 10,
     "metadata": {},
     "output_type": "execute_result"
    }
   ],
   "source": [
    "text_splitter=RecursiveCharacterTextSplitter(chunk_size=200,chunk_overlap=20)\n",
    "splits=text_splitter.create_documents([speech])\n",
    "splits"
   ]
  },
  {
   "cell_type": "markdown",
   "metadata": {},
   "source": [
    "## embedings"
   ]
  },
  {
   "cell_type": "code",
   "execution_count": 11,
   "metadata": {},
   "outputs": [
    {
     "data": {
      "text/plain": [
       "<langchain_chroma.vectorstores.Chroma at 0x1aa60dcbd60>"
      ]
     },
     "execution_count": 11,
     "metadata": {},
     "output_type": "execute_result"
    }
   ],
   "source": [
    "embeddings = OllamaEmbeddings(model=\"mxbai-embed-large:latest\")\n",
    "vector_db=Chroma.from_documents(splits,embedding=embeddings)\n",
    "vector_db"
   ]
  },
  {
   "cell_type": "markdown",
   "metadata": {},
   "source": [
    "## quereying the db"
   ]
  },
  {
   "cell_type": "code",
   "execution_count": 14,
   "metadata": {},
   "outputs": [
    {
     "data": {
      "text/plain": [
       "'One of the most significant aspects of Tyagaraja\\'s legacy is his contribution to the development of the Carnatic music tradition. He is credited with popularizing the \"kriti\" format, which became a'"
      ]
     },
     "execution_count": 14,
     "metadata": {},
     "output_type": "execute_result"
    }
   ],
   "source": [
    "querey=\"What are the contributions done by tygaraja?\"\n",
    "docs=vector_db.similarity_search(querey)\n",
    "docs[0].page_content"
   ]
  },
  {
   "cell_type": "markdown",
   "metadata": {},
   "source": [
    "## saving the db in local"
   ]
  },
  {
   "cell_type": "code",
   "execution_count": 23,
   "metadata": {},
   "outputs": [],
   "source": [
    "#save i nto the disk\n",
    "folder_path=r\"D:\\Surya files\\GenerativeAI\\GenerativeAI\\ComponentsAndModulesINLangChain\\chroma_db\"\n",
    "vector_db=Chroma.from_documents(splits,embedding=embeddings,persist_directory=folder_path)"
   ]
  },
  {
   "cell_type": "markdown",
   "metadata": {},
   "source": [
    "## retriving the data from the chroma db saved earlier\n"
   ]
  },
  {
   "cell_type": "code",
   "execution_count": 26,
   "metadata": {},
   "outputs": [
    {
     "name": "stdout",
     "output_type": "stream",
     "text": [
      "[Document(page_content=\"Thiruvarur in Tamil Nadu, India, into a family of musicians. His father, Ramabrahmam, was a musician and a devotee of Lord Rama, which greatly influenced Tyagaraja's life and work.\"), Document(page_content='Tyagaraja (1767â€“1847) was a prominent Indian composer and musician, widely regarded as one of the greatest composers in the Carnatic music tradition. He was born in the town of Thiruvarur in Tamil'), Document(page_content='From a young age, Tyagaraja showed exceptional musical talent and a deep devotion to Lord Rama. His compositions, primarily in Telugu, reflect his spiritual beliefs and his love for the divine. He is'), Document(page_content='One of the most significant aspects of Tyagaraja\\'s legacy is his contribution to the development of the Carnatic music tradition. He is credited with popularizing the \"kriti\" format, which became a'), Document(page_content=\"Tyagaraja's life was marked by both personal struggles and artistic achievements. He faced challenges, including the loss of his family members and financial difficulties. Despite these hardships, he\")]\n"
     ]
    }
   ],
   "source": [
    "db2=Chroma(persist_directory=folder_path,embedding_function=embeddings)\n",
    "querey=\"where tyygaraja born ?\"\n",
    "docsFromSavedDb=db2.search(querey,k=5,search_type=\"similarity\")\n",
    "print(docsFromSavedDb)"
   ]
  },
  {
   "cell_type": "markdown",
   "metadata": {},
   "source": [
    "## retriver option"
   ]
  },
  {
   "cell_type": "code",
   "execution_count": 28,
   "metadata": {},
   "outputs": [
    {
     "data": {
      "text/plain": [
       "Document(page_content=\"Thiruvarur in Tamil Nadu, India, into a family of musicians. His father, Ramabrahmam, was a musician and a devotee of Lord Rama, which greatly influenced Tyagaraja's life and work.\")"
      ]
     },
     "execution_count": 28,
     "metadata": {},
     "output_type": "execute_result"
    }
   ],
   "source": [
    "querey1=\"in which year tyagaraja born?\"\n",
    "retriver=db2.as_retriever()\n",
    "retriver.invoke(querey1)[0]"
   ]
  }
 ],
 "metadata": {
  "kernelspec": {
   "display_name": "genaienv",
   "language": "python",
   "name": "python3"
  },
  "language_info": {
   "codemirror_mode": {
    "name": "ipython",
    "version": 3
   },
   "file_extension": ".py",
   "mimetype": "text/x-python",
   "name": "python",
   "nbconvert_exporter": "python",
   "pygments_lexer": "ipython3",
   "version": "3.9.13"
  }
 },
 "nbformat": 4,
 "nbformat_minor": 2
}

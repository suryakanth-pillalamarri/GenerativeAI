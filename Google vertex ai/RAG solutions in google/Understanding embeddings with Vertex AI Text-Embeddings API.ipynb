{
 "cells": [
  {
   "cell_type": "code",
   "execution_count": null,
   "metadata": {
    "id": "ur8xi4C7S06n"
   },
   "outputs": [],
   "source": [
    "# Copyright 2023 Google LLC\n",
    "#\n",
    "# Licensed under the Apache License, Version 2.0 (the \"License\");\n",
    "# you may not use this file except in compliance with the License.\n",
    "# You may obtain a copy of the License at\n",
    "#\n",
    "#     https://www.apache.org/licenses/LICENSE-2.0\n",
    "#\n",
    "# Unless required by applicable law or agreed to in writing, software\n",
    "# distributed under the License is distributed on an \"AS IS\" BASIS,\n",
    "# WITHOUT WARRANTIES OR CONDITIONS OF ANY KIND, either express or implied.\n",
    "# See the License for the specific language governing permissions and\n",
    "# limitations under the License."
   ]
  },
  {
   "cell_type": "markdown",
   "metadata": {
    "id": "JAPoU8Sm5E6e"
   },
   "source": [
    "# [TODO] Add your H1 title heading here"
   ]
  },
  {
   "cell_type": "markdown",
   "metadata": {
    "id": "24743cf4a1e1"
   },
   "source": [
    "**_NOTE_**: This notebook has been tested in the following environment:\n",
    "\n",
    "* Python version = 3.10.13"
   ]
  },
  {
   "cell_type": "markdown",
   "metadata": {
    "id": "tvgnzT1CKxrO"
   },
   "source": [
    "## Overview\n",
    "\n",
    "{TODO: Include a paragraph or two explaining what this example demonstrates, who should be interested in it, and what you need to know before you get started.}\n",
    "\n",
    "Learn more about [web-doc-title](linkback-to-webdoc-page). {TODO: if more than one primary feature, add tag/linkback for each one}"
   ]
  },
  {
   "cell_type": "markdown",
   "metadata": {
    "id": "d975e698c9a4"
   },
   "source": [
    "### Objective\n",
    "\n",
    "In this tutorial, you learn how to {TODO: Complete the sentence explaining briefly what you will learn from the notebook, such as\n",
    "training, hyperparameter tuning, or serving}:\n",
    "\n",
    "This tutorial uses the following Google Cloud ML services and resources:\n",
    "\n",
    "- *{TODO: Add high level bullets for the services/resources demonstrated; e.g., Vertex AI Training}*\n",
    "\n",
    "\n",
    "The steps performed include:\n",
    "\n",
    "- *{TODO: Add high level bullets for the steps of performed in the notebook}*"
   ]
  },
  {
   "cell_type": "markdown",
   "metadata": {
    "id": "08d289fa873f"
   },
   "source": [
    "### Dataset\n",
    "\n",
    "{TODO: Include a paragraph with Dataset information and where to obtain it.} \n",
    "\n",
    "{TODO: Make sure the dataset is accessible to the public. **Googlers**: Add your dataset to the [public samples bucket](http://goto/cloudsamples#sample-storage-bucket) within gs://cloud-samples-data/vertex-ai, if it doesn't already exist there.}"
   ]
  },
  {
   "cell_type": "markdown",
   "metadata": {
    "id": "aed92deeb4a0"
   },
   "source": [
    "### Costs \n",
    "\n",
    "{TODO: Update the list of billable products that your tutorial uses.}\n",
    "\n",
    "This tutorial uses billable components of Google Cloud:\n",
    "\n",
    "* Vertex AI\n",
    "* {TODO: BigQuery}\n",
    "* Cloud Storage\n",
    "\n",
    "{TODO: Include links to pricing documentation for each product you listed above.\n",
    " NOTE: If you use BigQuery or Dataflow, you need to add this to the pricing.\n",
    "}\n",
    "\n",
    "Learn about [Vertex AI pricing](https://cloud.google.com/vertex-ai/pricing),\n",
    "{ TODO: [BigQuery pricing](https://cloud.google.com/bigquery/pricing), }\n",
    "and [Cloud Storage pricing](https://cloud.google.com/storage/pricing), \n",
    "and use the [Pricing Calculator](https://cloud.google.com/products/calculator/)\n",
    "to generate a cost estimate based on your projected usage."
   ]
  },
  {
   "cell_type": "markdown",
   "metadata": {
    "id": "i7EUnXsZhAGF"
   },
   "source": [
    "## Installation\n",
    "\n",
    "Install the following packages required to execute this notebook. \n",
    "\n",
    "{TODO: Suggest using the latest major GA version of each package; i.e., --upgrade}"
   ]
  },
  {
   "cell_type": "code",
   "execution_count": null,
   "metadata": {
    "id": "2b4ef9b72d43"
   },
   "outputs": [],
   "source": [
    "! pip3 install --upgrade --quiet google-cloud-aiplatform"
   ]
  },
  {
   "cell_type": "markdown",
   "metadata": {
    "id": "BF1j6f9HApxa"
   },
   "source": [
    "## Before you begin\n",
    "\n",
    "### Set up your Google Cloud project\n",
    "\n",
    "**The following steps are required, regardless of your notebook environment.**\n",
    "\n",
    "1. [Select or create a Google Cloud project](https://console.cloud.google.com/cloud-resource-manager). When you first create an account, you get a $300 free credit towards your compute/storage costs.\n",
    "\n",
    "2. [Make sure that billing is enabled for your project](https://cloud.google.com/billing/docs/how-to/modify-project).\n",
    "\n",
    "3. [Enable the Vertex AI API](https://console.cloud.google.com/flows/enableapi?apiid=aiplatform.googleapis.com). {TODO: Update the APIs needed for your tutorial. Edit the API names, and update the link to append the API IDs, separating each one with a comma. For example, container.googleapis.com,cloudbuild.googleapis.com}\n",
    "\n",
    "4. If you are running this notebook locally, you need to install the [Cloud SDK](https://cloud.google.com/sdk)."
   ]
  },
  {
   "cell_type": "markdown",
   "metadata": {
    "id": "WReHDGG5g0XY"
   },
   "source": [
    "#### Set your project ID\n",
    "\n",
    "**If you don't know your project ID**, try the following:\n",
    "* Run `gcloud config list`.\n",
    "* Run `gcloud projects list`.\n",
    "* See the support page: [Locate the project ID](https://support.google.com/googleapi/answer/7014113)"
   ]
  },
  {
   "cell_type": "code",
   "execution_count": null,
   "metadata": {
    "id": "oM1iC_MfAts1"
   },
   "outputs": [],
   "source": [
    "PROJECT_ID = \"[your-project-id]\"  # @param {type:\"string\"}\n",
    "\n",
    "# Set the project id\n",
    "! gcloud config set project {PROJECT_ID}"
   ]
  },
  {
   "cell_type": "markdown",
   "metadata": {
    "id": "region"
   },
   "source": [
    "#### Region\n",
    "\n",
    "You can also change the `REGION` variable used by Vertex AI. Learn more about [Vertex AI regions](https://cloud.google.com/vertex-ai/docs/general/locations)."
   ]
  },
  {
   "cell_type": "code",
   "execution_count": 1,
   "metadata": {
    "id": "region"
   },
   "outputs": [],
   "source": [
    "REGION = \"us-central1\"  # @param {type: \"string\"}"
   ]
  },
  {
   "cell_type": "markdown",
   "metadata": {
    "id": "sBCra4QMA2wR"
   },
   "source": [
    "### Authenticate your Google Cloud account\n",
    "\n",
    "The Cloud SDK, code and other libraries currently run as the service account identity of the Workbench Instance running this notebook."
   ]
  },
  {
   "cell_type": "markdown",
   "metadata": {
    "id": "de775a3773ba"
   },
   "source": [
    "**- Authenticate the Cloud SDK with your credentials :**"
   ]
  },
  {
   "cell_type": "code",
   "execution_count": 2,
   "metadata": {
    "id": "254614fa0c46"
   },
   "outputs": [],
   "source": [
    "# ! gcloud auth login"
   ]
  },
  {
   "cell_type": "markdown",
   "metadata": {
    "id": "authlibtitle"
   },
   "source": [
    "**- Authenticate code and libraries with your credentials :**"
   ]
  },
  {
   "cell_type": "code",
   "execution_count": null,
   "metadata": {
    "id": "authlibcode"
   },
   "outputs": [],
   "source": [
    "# ! gcloud auth application-default"
   ]
  },
  {
   "cell_type": "markdown",
   "metadata": {
    "id": "f6b2ccc891ed"
   },
   "source": [
    "**- Service account or other**\n",
    "* See how to grant Cloud Storage permissions to your service account at https://cloud.google.com/storage/docs/gsutil/commands/iam#ch-examples."
   ]
  },
  {
   "cell_type": "markdown",
   "metadata": {
    "id": "zgPO1eR3CYjk"
   },
   "source": [
    "### Create a Cloud Storage bucket\n",
    "\n",
    "Create a storage bucket to store intermediate artifacts such as datasets.\n",
    "\n",
    "- *{Note to notebook author: For any user-provided strings that need to be unique (like bucket names or model ID's), append \"-unique\" to the end so proper testing can occur}*"
   ]
  },
  {
   "cell_type": "code",
   "execution_count": null,
   "metadata": {
    "id": "MzGDU7TWdts_"
   },
   "outputs": [],
   "source": [
    "BUCKET_URI = f\"gs://your-bucket-name-{PROJECT_ID}-unique\"  # @param {type:\"string\"}"
   ]
  },
  {
   "cell_type": "markdown",
   "metadata": {
    "id": "-EcIXiGsCePi"
   },
   "source": [
    "**Only if your bucket doesn't already exist**: Run the following cell to create your Cloud Storage bucket."
   ]
  },
  {
   "cell_type": "code",
   "execution_count": null,
   "metadata": {
    "id": "NIq7R4HZCfIc"
   },
   "outputs": [],
   "source": [
    "! gsutil mb -l {REGION} -p {PROJECT_ID} {BUCKET_URI}"
   ]
  },
  {
   "cell_type": "markdown",
   "metadata": {
    "id": "960505627ddf"
   },
   "source": [
    "### Import libraries"
   ]
  },
  {
   "cell_type": "code",
   "execution_count": null,
   "metadata": {
    "id": "PyQmSRbKA8r-"
   },
   "outputs": [],
   "source": [
    "from google.cloud import aiplatform"
   ]
  },
  {
   "cell_type": "markdown",
   "metadata": {
    "id": "init_aip:mbsdk,all"
   },
   "source": [
    "### Initialize Vertex AI SDK for Python\n",
    "\n",
    "Initialize the Vertex AI SDK for Python for your project."
   ]
  },
  {
   "cell_type": "code",
   "execution_count": null,
   "metadata": {
    "id": "init_aip:mbsdk,all"
   },
   "outputs": [],
   "source": [
    "aiplatform.init(project=PROJECT_ID, location=REGION, staging_bucket=BUCKET_URI)"
   ]
  },
  {
   "cell_type": "markdown",
   "metadata": {
    "id": "TpV-iwP9qw9c"
   },
   "source": [
    "## Cleaning up\n",
    "\n",
    "To clean up all Google Cloud resources used in this project, you can [delete the Google Cloud\n",
    "project](https://cloud.google.com/resource-manager/docs/creating-managing-projects#shutting_down_projects) you used for the tutorial.\n",
    "\n",
    "Otherwise, you can delete the individual resources you created in this tutorial:\n",
    "\n",
    "{TODO: Include commands to delete individual resources below}"
   ]
  },
  {
   "cell_type": "code",
   "execution_count": 1,
   "metadata": {
    "id": "sx_vKniMq9ZX"
   },
   "outputs": [],
   "source": [
    "import os\n",
    "\n",
    "# Delete endpoint resource\n",
    "# e.g. `endpoint.delete()`\n",
    "\n",
    "# Delete model resource\n",
    "# e.g. `model.delete()`\n",
    "\n",
    "# Delete Cloud Storage objects that were created\n",
    "delete_bucket = False\n",
    "if delete_bucket or os.getenv(\"IS_TESTING\"):\n",
    "    ! gsutil -m rm -r $BUCKET_URI"
   ]
  },
  {
   "cell_type": "code",
   "execution_count": null,
   "metadata": {},
   "outputs": [],
   "source": []
  },
  {
   "cell_type": "code",
   "execution_count": 1,
   "metadata": {
    "tags": []
   },
   "outputs": [
    {
     "name": "stdout",
     "output_type": "stream",
     "text": [
      "Requirement already satisfied: google-cloud-aiplatform in ./.local/lib/python3.10/site-packages (1.75.0)\n",
      "Requirement already satisfied: google-api-core!=2.0.*,!=2.1.*,!=2.2.*,!=2.3.*,!=2.4.*,!=2.5.*,!=2.6.*,!=2.7.*,<3.0.0dev,>=1.34.1 in ./.local/lib/python3.10/site-packages (from google-api-core[grpc]!=2.0.*,!=2.1.*,!=2.2.*,!=2.3.*,!=2.4.*,!=2.5.*,!=2.6.*,!=2.7.*,<3.0.0dev,>=1.34.1->google-cloud-aiplatform) (2.24.0)\n",
      "Requirement already satisfied: google-auth<3.0.0dev,>=2.14.1 in /opt/conda/lib/python3.10/site-packages (from google-cloud-aiplatform) (2.36.0)\n",
      "Requirement already satisfied: proto-plus<2.0.0dev,>=1.22.3 in /opt/conda/lib/python3.10/site-packages (from google-cloud-aiplatform) (1.25.0)\n",
      "Requirement already satisfied: protobuf!=4.21.0,!=4.21.1,!=4.21.2,!=4.21.3,!=4.21.4,!=4.21.5,<6.0.0dev,>=3.20.2 in /opt/conda/lib/python3.10/site-packages (from google-cloud-aiplatform) (3.20.3)\n",
      "Requirement already satisfied: packaging>=14.3 in /opt/conda/lib/python3.10/site-packages (from google-cloud-aiplatform) (24.1)\n",
      "Requirement already satisfied: google-cloud-storage<3.0.0dev,>=1.32.0 in /opt/conda/lib/python3.10/site-packages (from google-cloud-aiplatform) (2.14.0)\n",
      "Requirement already satisfied: google-cloud-bigquery!=3.20.0,<4.0.0dev,>=1.15.0 in ./.local/lib/python3.10/site-packages (from google-cloud-aiplatform) (3.27.0)\n",
      "Requirement already satisfied: google-cloud-resource-manager<3.0.0dev,>=1.3.3 in /opt/conda/lib/python3.10/site-packages (from google-cloud-aiplatform) (1.13.1)\n",
      "Requirement already satisfied: shapely<3.0.0dev in /opt/conda/lib/python3.10/site-packages (from google-cloud-aiplatform) (2.0.6)\n",
      "Requirement already satisfied: pydantic<3 in /opt/conda/lib/python3.10/site-packages (from google-cloud-aiplatform) (2.9.2)\n",
      "Requirement already satisfied: docstring-parser<1 in /opt/conda/lib/python3.10/site-packages (from google-cloud-aiplatform) (0.16)\n",
      "Requirement already satisfied: googleapis-common-protos<2.0.dev0,>=1.56.2 in /opt/conda/lib/python3.10/site-packages (from google-api-core!=2.0.*,!=2.1.*,!=2.2.*,!=2.3.*,!=2.4.*,!=2.5.*,!=2.6.*,!=2.7.*,<3.0.0dev,>=1.34.1->google-api-core[grpc]!=2.0.*,!=2.1.*,!=2.2.*,!=2.3.*,!=2.4.*,!=2.5.*,!=2.6.*,!=2.7.*,<3.0.0dev,>=1.34.1->google-cloud-aiplatform) (1.66.0)\n",
      "Requirement already satisfied: requests<3.0.0.dev0,>=2.18.0 in /opt/conda/lib/python3.10/site-packages (from google-api-core!=2.0.*,!=2.1.*,!=2.2.*,!=2.3.*,!=2.4.*,!=2.5.*,!=2.6.*,!=2.7.*,<3.0.0dev,>=1.34.1->google-api-core[grpc]!=2.0.*,!=2.1.*,!=2.2.*,!=2.3.*,!=2.4.*,!=2.5.*,!=2.6.*,!=2.7.*,<3.0.0dev,>=1.34.1->google-cloud-aiplatform) (2.32.3)\n",
      "Requirement already satisfied: grpcio<2.0dev,>=1.33.2 in /opt/conda/lib/python3.10/site-packages (from google-api-core[grpc]!=2.0.*,!=2.1.*,!=2.2.*,!=2.3.*,!=2.4.*,!=2.5.*,!=2.6.*,!=2.7.*,<3.0.0dev,>=1.34.1->google-cloud-aiplatform) (1.68.0)\n",
      "Requirement already satisfied: grpcio-status<2.0.dev0,>=1.33.2 in /opt/conda/lib/python3.10/site-packages (from google-api-core[grpc]!=2.0.*,!=2.1.*,!=2.2.*,!=2.3.*,!=2.4.*,!=2.5.*,!=2.6.*,!=2.7.*,<3.0.0dev,>=1.34.1->google-cloud-aiplatform) (1.48.2)\n",
      "Requirement already satisfied: cachetools<6.0,>=2.0.0 in /opt/conda/lib/python3.10/site-packages (from google-auth<3.0.0dev,>=2.14.1->google-cloud-aiplatform) (5.5.0)\n",
      "Requirement already satisfied: pyasn1-modules>=0.2.1 in /opt/conda/lib/python3.10/site-packages (from google-auth<3.0.0dev,>=2.14.1->google-cloud-aiplatform) (0.4.1)\n",
      "Requirement already satisfied: rsa<5,>=3.1.4 in /opt/conda/lib/python3.10/site-packages (from google-auth<3.0.0dev,>=2.14.1->google-cloud-aiplatform) (4.9)\n",
      "Requirement already satisfied: google-cloud-core<3.0.0dev,>=2.4.1 in /opt/conda/lib/python3.10/site-packages (from google-cloud-bigquery!=3.20.0,<4.0.0dev,>=1.15.0->google-cloud-aiplatform) (2.4.1)\n",
      "Requirement already satisfied: google-resumable-media<3.0dev,>=2.0.0 in /opt/conda/lib/python3.10/site-packages (from google-cloud-bigquery!=3.20.0,<4.0.0dev,>=1.15.0->google-cloud-aiplatform) (2.7.2)\n",
      "Requirement already satisfied: python-dateutil<3.0dev,>=2.7.3 in /opt/conda/lib/python3.10/site-packages (from google-cloud-bigquery!=3.20.0,<4.0.0dev,>=1.15.0->google-cloud-aiplatform) (2.9.0.post0)\n",
      "Requirement already satisfied: grpc-google-iam-v1<1.0.0dev,>=0.12.4 in /opt/conda/lib/python3.10/site-packages (from google-cloud-resource-manager<3.0.0dev,>=1.3.3->google-cloud-aiplatform) (0.13.1)\n",
      "Requirement already satisfied: google-crc32c<2.0dev,>=1.0 in /opt/conda/lib/python3.10/site-packages (from google-cloud-storage<3.0.0dev,>=1.32.0->google-cloud-aiplatform) (1.6.0)\n",
      "Requirement already satisfied: annotated-types>=0.6.0 in /opt/conda/lib/python3.10/site-packages (from pydantic<3->google-cloud-aiplatform) (0.7.0)\n",
      "Requirement already satisfied: pydantic-core==2.23.4 in /opt/conda/lib/python3.10/site-packages (from pydantic<3->google-cloud-aiplatform) (2.23.4)\n",
      "Requirement already satisfied: typing-extensions>=4.6.1 in /opt/conda/lib/python3.10/site-packages (from pydantic<3->google-cloud-aiplatform) (4.12.2)\n",
      "Requirement already satisfied: numpy<3,>=1.14 in /opt/conda/lib/python3.10/site-packages (from shapely<3.0.0dev->google-cloud-aiplatform) (1.26.4)\n",
      "Requirement already satisfied: pyasn1<0.7.0,>=0.4.6 in /opt/conda/lib/python3.10/site-packages (from pyasn1-modules>=0.2.1->google-auth<3.0.0dev,>=2.14.1->google-cloud-aiplatform) (0.6.1)\n",
      "Requirement already satisfied: six>=1.5 in /opt/conda/lib/python3.10/site-packages (from python-dateutil<3.0dev,>=2.7.3->google-cloud-bigquery!=3.20.0,<4.0.0dev,>=1.15.0->google-cloud-aiplatform) (1.16.0)\n",
      "Requirement already satisfied: charset-normalizer<4,>=2 in /opt/conda/lib/python3.10/site-packages (from requests<3.0.0.dev0,>=2.18.0->google-api-core!=2.0.*,!=2.1.*,!=2.2.*,!=2.3.*,!=2.4.*,!=2.5.*,!=2.6.*,!=2.7.*,<3.0.0dev,>=1.34.1->google-api-core[grpc]!=2.0.*,!=2.1.*,!=2.2.*,!=2.3.*,!=2.4.*,!=2.5.*,!=2.6.*,!=2.7.*,<3.0.0dev,>=1.34.1->google-cloud-aiplatform) (3.4.0)\n",
      "Requirement already satisfied: idna<4,>=2.5 in /opt/conda/lib/python3.10/site-packages (from requests<3.0.0.dev0,>=2.18.0->google-api-core!=2.0.*,!=2.1.*,!=2.2.*,!=2.3.*,!=2.4.*,!=2.5.*,!=2.6.*,!=2.7.*,<3.0.0dev,>=1.34.1->google-api-core[grpc]!=2.0.*,!=2.1.*,!=2.2.*,!=2.3.*,!=2.4.*,!=2.5.*,!=2.6.*,!=2.7.*,<3.0.0dev,>=1.34.1->google-cloud-aiplatform) (3.10)\n",
      "Requirement already satisfied: urllib3<3,>=1.21.1 in /opt/conda/lib/python3.10/site-packages (from requests<3.0.0.dev0,>=2.18.0->google-api-core!=2.0.*,!=2.1.*,!=2.2.*,!=2.3.*,!=2.4.*,!=2.5.*,!=2.6.*,!=2.7.*,<3.0.0dev,>=1.34.1->google-api-core[grpc]!=2.0.*,!=2.1.*,!=2.2.*,!=2.3.*,!=2.4.*,!=2.5.*,!=2.6.*,!=2.7.*,<3.0.0dev,>=1.34.1->google-cloud-aiplatform) (1.26.20)\n",
      "Requirement already satisfied: certifi>=2017.4.17 in /opt/conda/lib/python3.10/site-packages (from requests<3.0.0.dev0,>=2.18.0->google-api-core!=2.0.*,!=2.1.*,!=2.2.*,!=2.3.*,!=2.4.*,!=2.5.*,!=2.6.*,!=2.7.*,<3.0.0dev,>=1.34.1->google-api-core[grpc]!=2.0.*,!=2.1.*,!=2.2.*,!=2.3.*,!=2.4.*,!=2.5.*,!=2.6.*,!=2.7.*,<3.0.0dev,>=1.34.1->google-cloud-aiplatform) (2024.8.30)\n"
     ]
    }
   ],
   "source": [
    "!pip install google-cloud-aiplatform"
   ]
  },
  {
   "cell_type": "code",
   "execution_count": 2,
   "metadata": {
    "tags": []
   },
   "outputs": [],
   "source": [
    "import vertexai\n",
    "vertexai.init()"
   ]
  },
  {
   "cell_type": "code",
   "execution_count": 11,
   "metadata": {
    "tags": []
   },
   "outputs": [],
   "source": [
    "from vertexai.language_models import TextEmbeddingModel\n",
    "embedding_model=TextEmbeddingModel.from_pretrained('text-embedding-004')"
   ]
  },
  {
   "cell_type": "markdown",
   "metadata": {},
   "source": [
    "Below command returns a list with a single text embedding object. That list contains 768 items, in the form of numbers between -1 and 1, called dimensions. These dimensions are used to compare similarity between embeddings."
   ]
  },
  {
   "cell_type": "code",
   "execution_count": 12,
   "metadata": {
    "tags": []
   },
   "outputs": [
    {
     "name": "stdout",
     "output_type": "stream",
     "text": [
      "[TextEmbedding(values=[-0.010603697039186954, -0.015785258263349533, -0.010502871125936508, 0.002185781253501773, -0.07148707658052444, 0.04219384118914604, -0.010504273697733879, 0.03097270429134369, 0.03328254073858261, 0.05283762887120247, -0.004809410311281681, -0.0398193821310997, 0.07342298328876495, -0.04157464578747749, -0.0064167664386332035, -0.09088578075170517, -0.049317650496959686, -0.030094314366579056, -0.061477649956941605, -0.03391197696328163, 0.037252277135849, 0.011168363504111767, 0.023280510678887367, -0.02333776280283928, -0.0038556549698114395, -0.0060250903479754925, -0.02745829150080681, 0.014007600955665112, 0.018123144283890724, -0.024052545428276062, 0.016361013054847717, -0.00881562102586031, 0.0010356297716498375, 0.022376632317900658, 0.06061168387532234, -0.006580675952136517, -0.06944117695093155, 0.0012955393176525831, -0.026413124054670334, -0.08057834208011627, -0.01334639173001051, -0.023707639425992966, 0.013900559395551682, 0.02601812407374382, -0.0006510406965389848, -0.005294468253850937, -0.00321800890378654, -0.021438052877783775, 0.00940287671983242, 0.07686906307935715, 0.0002932707720901817, -0.025412667542696, -0.03370207920670509, 0.02116345800459385, -0.022938288748264313, -0.03589918836951256, -0.04262949898838997, -0.04238056018948555, 0.07277403026819229, -0.028388572856783867, -0.0006210078136064112, 0.026923000812530518, -0.010528121143579483, -0.03597910329699516, -0.037092648446559906, 0.02633632719516754, 0.003019934054464102, 0.01615311950445175, -0.028586063534021378, 0.03956019878387451, 0.009466834366321564, 0.011213131248950958, -0.038920965045690536, 0.006397536024451256, -0.056603409349918365, 0.05464043840765953, 0.01555588748306036, -0.003721055341884494, -0.08006066083908081, 0.05400155857205391, 0.008969123475253582, 0.00391283119097352, 0.02683402970433235, 0.0700603723526001, 0.06428323686122894, 0.028848934918642044, -0.04828403517603874, -0.017241662368178368, -0.0811377540230751, -0.00205546198412776, 0.04677676409482956, 0.04105139896273613, 0.006749842781573534, 0.005010329652577639, 0.07950635999441147, 0.063634492456913, -0.0942498967051506, -0.0015704203397035599, 0.028985416516661644, -0.0015516288112848997, 0.013728078454732895, -0.021534685045480728, 0.01814144104719162, -0.06859030574560165, 0.027518976479768753, 0.004596373997628689, -0.038975995033979416, -0.004548148717731237, -0.009070185013115406, -0.04400995746254921, 0.01097231637686491, -0.08058805018663406, -0.008219285868108273, 0.014930661767721176, 0.023255983367562294, 0.012145955115556717, -0.01932680234313011, -0.013997192494571209, -0.025524532422423363, 0.017750918865203857, 0.020609769970178604, 0.0009012157679535449, -0.036711979657411575, 0.08481928706169128, 0.10343533009290695, -0.010952388867735863, -0.02146262302994728, -0.05104287713766098, -0.026986252516508102, -0.02317090332508087, -0.026272036135196686, -0.09552034735679626, 0.010392510332167149, 0.05316291004419327, -0.043584439903497696, 0.02667425572872162, 0.05061808601021767, -0.012547865509986877, -0.00709367822855711, -0.05084004998207092, 0.03216160088777542, -0.04831324517726898, 0.029115373268723488, 0.028343098238110542, 0.0020916457287967205, 0.02850634790956974, 0.031791575253009796, 0.009446785785257816, -0.00787854753434658, -0.029273249208927155, -0.06950090080499649, -0.042650263756513596, 0.08281341195106506, -0.03691330924630165, -0.022386187687516212, 0.023013737052679062, 0.00846082717180252, -0.011081086471676826, 0.08040672540664673, -0.015599295496940613, 0.0042146481573581696, -0.05981913581490517, -0.01838221214711666, 0.010473884642124176, -0.010492013767361641, -0.027427105233073235, 0.02890017442405224, -0.01778249256312847, -0.02204977162182331, 0.002234464744105935, 0.0093761645257473, -0.013949326239526272, -0.08525868505239487, -0.036253273487091064, -0.014163916930556297, -0.00852521974593401, -0.007063600700348616, -0.0006637044134549797, -0.018135977908968925, -0.03217447176575661, 0.0841849148273468, -0.04855671525001526, -0.029869545251131058, -0.014992991462349892, -0.03351792320609093, -0.026696305721998215, 0.03786129876971245, 0.05653427541255951, 0.01852555014193058, 0.025861553847789764, -0.03718416765332222, 0.00449338648468256, 0.02713601477444172, -0.011436535976827145, 0.024765096604824066, -0.010320587083697319, 0.039858754724264145, -0.004407841712236404, 0.0005814312025904655, 0.04733401909470558, -0.06402815133333206, -0.014833766967058182, -0.005759913474321365, -0.01992872729897499, 0.02431197464466095, 0.00906569417566061, -0.05445150285959244, -0.05670452490448952, 0.030990278348326683, 0.037142377346754074, -0.04395100846886635, 0.006174481473863125, -0.07085045427083969, -0.04721906781196594, -0.04911553114652634, 0.06057418882846832, 0.04912431910634041, -0.022459423169493675, 0.08973006904125214, -0.05142001062631607, -0.01441668439656496, -0.02276160567998886, 0.02443910576403141, -0.05223244056105614, 0.004237817134708166, 0.01133660227060318, -0.037781231105327606, -0.06108153611421585, 0.004002431407570839, -0.05278969183564186, 0.0252494215965271, -0.026208434253931046, -0.05916653200984001, -0.013765339739620686, 0.006964588072150946, -0.0023793044965714216, 0.002955361269414425, 0.0001732914097374305, 0.009687175042927265, -0.026647347956895828, 0.06358517706394196, -0.11003956943750381, 0.0010685899760574102, -0.0584876649081707, 0.02914433367550373, 0.011398800648748875, 0.008921743370592594, 0.10872974246740341, 0.0111859031021595, -0.038720495998859406, -0.027047915384173393, -0.024961896240711212, -0.0164177305996418, -0.016962261870503426, -0.015258010476827621, 0.031523432582616806, 0.02611803077161312, 0.010739791207015514, -0.017306506633758545, -0.026649480685591698, 0.05514015629887581, -0.05998355150222778, -0.043124280869960785, -0.0276115071028471, -0.01283068023622036, -0.07658819854259491, 0.06243053451180458, -0.0001964710099855438, 0.033361103385686874, -0.003223026404157281, 0.034548498690128326, -0.0184679813683033, -0.008636508136987686, -0.013731935992836952, -0.045717909932136536, 0.03877277672290802, 0.0027587434742599726, 0.05571486055850983, -0.0006907673086971045, 0.0012256753398105502, 0.06163559854030609, -0.0191092137247324, -0.025037772953510284, 0.01485697366297245, 0.044470664113759995, 0.037252336740493774, 0.023180602118372917, -0.012867613695561886, 0.027343448251485825, -0.02950374409556389, 0.06128988042473793, -0.00860225223004818, 0.0068280138075351715, 0.004693319555372, -0.009483606554567814, -0.024520104750990868, 0.02404840476810932, 0.059835657477378845, 0.006189923733472824, -0.024426927790045738, -0.0032689988147467375, 0.046721238642930984, -0.05002856254577637, 0.03338296338915825, 0.004820667672902346, -0.024760697036981583, 0.018724586814641953, 0.007675162050873041, -0.02837437577545643, 0.010223654098808765, -0.052511684596538544, -0.018141772598028183, -0.017706725746393204, 0.028590939939022064, -0.013974710367619991, -0.01943899877369404, -0.10333750396966934, -0.01484856940805912, -0.014938470907509327, -0.030497198924422264, 0.028486724942922592, 0.0041936784982681274, -0.021444080397486687, 0.0219043530523777, 0.07735703885555267, -0.01624034158885479, -0.014183023944497108, 0.003089699661359191, -0.006500265095382929, 0.0036703653167933226, 0.0323321707546711, -0.017580188810825348, 0.015800705179572105, 0.023266099393367767, -0.0013371265958994627, 0.012991334311664104, -0.00742543488740921, 0.04531230032444, 0.03021419048309326, 0.05529709905385971, 0.006037502083927393, -0.028839070349931717, 0.009546691551804543, 0.020856676623225212, 0.01993865706026554, 0.0127677321434021, 0.050755783915519714, -0.01781132072210312, 0.025833114981651306, -0.08339347690343857, 0.04038842022418976, 0.029843732714653015, 0.037451840937137604, -0.04979953169822693, 0.014424936845898628, -0.04098869487643242, 0.03832191973924637, 0.022438038140535355, -0.012040939182043076, -0.03641952574253082, -0.029315728694200516, -0.004133639391511679, -0.024816658347845078, -0.019397173076868057, -0.01839202642440796, 0.01930398680269718, 0.004766784142702818, 0.05399566516280174, 0.0448046438395977, -0.018445394933223724, 0.04886546730995178, 0.009267318993806839, -0.03912874683737755, 0.00910734012722969, 0.024122588336467743, -0.0081983283162117, -0.051502835005521774, 0.057948023080825806, -0.002169911051169038, -0.09431181848049164, -0.022351762279868126, -0.013966032303869724, -0.03717697039246559, 0.019530238583683968, -0.0015293399337679148, 0.04874429106712341, -0.010596668347716331, -0.010912997648119926, 0.01855200156569481, -0.014634773135185242, -0.03831145912408829, 0.08978287130594254, -0.00963220838457346, 0.01847650669515133, -0.02376982755959034, -0.014597377739846706, 0.013843400403857231, 0.010169985704123974, -0.03490203619003296, -0.01830579899251461, 0.025915343314409256, -0.01607959344983101, 0.07631926238536835, -0.019650250673294067, -0.025828462094068527, 0.001771331182681024, 0.04616708308458328, 0.004511596634984016, 0.03520118445158005, -0.029763584956526756, 0.022279532626271248, 0.025395814329385757, 0.04377366602420807, -0.02651526778936386, -0.04118425026535988, -0.0129794767126441, 0.014396550133824348, -0.03170301765203476, 0.04776594787836075, -0.011578145436942577, -0.02265494503080845, -0.016566749662160873, 0.04762335494160652, -0.013345989398658276, -0.027706405147910118, -0.0777575671672821, 0.014431932009756565, -0.011084023863077164, 0.006794529035687447, 0.002548281569033861, 0.03256020322442055, 0.023042986169457436, -0.023621201515197754, -0.012263371609151363, 0.03598605468869209, 0.011388647370040417, 0.01532072201371193, 0.04096400737762451, 0.019309109076857567, -0.0017975253285840154, -0.026949265971779823, 0.009933504275977612, 0.014823174104094505, 0.023127064108848572, -0.019832216203212738, 0.039939455687999725, 0.05916908383369446, -0.023015033453702927, -0.05409834533929825, -0.013680171221494675, 0.05494893342256546, -0.02295299619436264, 0.036788299679756165, -0.031378477811813354, 0.04738037660717964, 0.028681840747594833, -0.0139415068551898, -0.008071147836744785, -0.00030085479374974966, 0.05149887502193451, -0.013453192077577114, -0.00723681878298521, 0.016048720106482506, 0.02430514432489872, 0.05446556955575943, -0.003860551631078124, 0.0021666043903678656, 0.02260645106434822, 0.031245611608028412, 0.09123329073190689, 0.056649357080459595, -0.007128556724637747, 0.009171633049845695, -0.018595991656184196, -0.020454172044992447, 0.03292118012905121, 0.01538221724331379, -0.019461294636130333, -0.03165173903107643, 0.06678548455238342, 0.04749967157840729, 0.0150290010496974, -0.010523160919547081, 0.025190288200974464, 0.057084646075963974, -0.013202592730522156, -0.02654292620718479, -0.030980253592133522, 0.022162778303027153, -0.015243379399180412, 0.047575999051332474, 0.02160041406750679, 0.017420873045921326, -0.06495514512062073, -0.03920523449778557, 0.012768288142979145, -0.006731091067194939, 0.04553525522351265, -0.004666438791900873, -0.020213404670357704, 0.051836155354976654, 0.001251294044777751, -0.0033974326215684414, 0.012632039375603199, -0.024888038635253906, 0.019669609144330025, -0.047077685594558716, -0.05775763839483261, 0.05555597320199013, -0.01622444950044155, 0.034949108958244324, 0.01230822317302227, 0.028899060562253, 0.018621807917952538, 0.004789328668266535, 0.017714906483888626, -0.05204429477453232, 0.0455668643116951, 0.010473605245351791, 0.07211866229772568, -0.0004968891735188663, -0.05726657435297966, 0.01463402435183525, -0.04309394955635071, -0.007316401693969965, -0.0046883998438715935, -0.01434434112161398, 0.011060856282711029, 0.05561113357543945, -0.012604731135070324, 0.030721528455615044, -0.028081102296710014, 0.045574259012937546, -0.01617809385061264, 0.038644373416900635, 0.07582675665616989, -0.013978063128888607, -0.006735680159181356, 0.010430126450955868, 0.0318126417696476, 0.02257845550775528, -0.022430483251810074, 0.04169121012091637, 0.030688269063830376, -0.02443869039416313, 0.005351726431399584, 0.02948780171573162, 0.042482953518629074, -0.01274250727146864, 0.09286229312419891, -0.03160225600004196, -0.011171177960932255, -0.005997949745506048, -0.015342362225055695, -0.01038638036698103, -0.031371355056762695, 0.06125239282846451, 0.009497708640992641, -0.03396226465702057, 0.027818793430924416, -0.026083823293447495, -0.03606271371245384, 0.010566553100943565, -0.0010260810377076268, -0.006167984567582607, 0.03156890720129013, 0.015687251463532448, -0.0019182664109393954, 0.015092341229319572, 0.010836858302354813, 0.040097396820783615, -0.0045430902391672134, -0.010930762626230717, 0.028351102024316788, 0.049945004284381866, 0.0118186566978693, -0.031214019283652306, -0.01661531627178192, -0.023748181760311127, -0.021926524117588997, 0.0032768752425909042, -0.017296941950917244, 0.1055062934756279, 0.014070526696741581, -0.02235393412411213, 0.015534519217908382, 0.018203480169177055, -0.01765526831150055, 0.019168106839060783, -0.03769755735993385, 0.0015959807205945253, -0.003155477112159133, 0.01581723429262638, -0.05010247230529785, 0.009247379377484322, 0.011590265668928623, -0.03467681258916855, 0.01755370758473873, 0.06283342838287354, 0.05117258056998253, -0.06398250162601471, -0.017627933993935585, -0.011003036051988602, -0.005658545531332493, 0.013598360121250153, -0.06425724923610687, -0.021882783621549606, -0.04779011756181717, 0.025167012587189674, -0.05398214980959892, 0.013408658094704151, 0.04187200218439102, -0.04191530495882034, -0.019218668341636658, -0.10295381397008896, 0.027095433324575424, -0.056539714336395264, 0.035976096987724304, 0.05136154592037201, -0.005664843134582043, -0.03156718984246254, 0.05744076892733574, 0.02951471321284771, 0.056498218327760696, -0.10021109879016876, 0.010274222120642662, -0.03525758534669876, 0.040560733526945114, 0.0184898991137743, 0.023404715582728386, -0.05571320652961731, -0.011228282004594803, 0.02296329289674759, 0.004748383536934853, -0.03817560523748398, 0.02152267098426819, -0.05389505997300148, 0.01769114099442959, -0.002180658048018813, 0.024612460285425186, 0.03072543255984783, 0.05699281394481659, 0.03015727736055851, 0.05962520092725754, -0.07019662111997604, 0.08709132671356201, -0.02285941317677498, -0.03241833671927452, -5.888378291274421e-05, 0.01694333553314209, -0.050812672823667526, 0.030446594581007957, 0.017400583252310753, -0.002860475331544876, -0.005383781623095274, 0.018334563821554184, -0.049633268266916275, -0.07394129782915115, 0.017475951462984085, -0.03669628128409386, 0.02633841149508953, 0.022541899234056473, 0.055364158004522324, -0.004453456960618496, -0.020520517602562904, 0.017903415486216545, -0.006666789297014475, 0.0012544713681563735, 0.005460117477923632, 0.016703885048627853, -0.048064179718494415, 0.07100316882133484, 0.016775382682681084, 0.006560034584254026, 0.0036849123425781727, 0.026341505348682404, 0.011658424511551857, -0.04006168618798256, -0.0015082495519891381, 0.018115784972906113, -0.00681281927973032, -0.05617921054363251, -0.0003114907012786716, -0.009136689826846123, -0.03570712357759476, -0.024089660495519638, 0.08921591192483902, -0.0490446612238884, 0.01943305693566799, -0.006692301016300917, -0.009461221285164356, -0.08475212752819061, -0.04341612011194229, -0.0208466537296772, 0.027773363515734673, 0.08003177493810654, -0.04328188672661781, 0.04014637693762779, 0.004229671321809292, -0.0581497997045517, -0.010118965059518814, 0.004482626914978027, -0.05030950903892517, -0.008759786374866962, 0.07457967847585678, 0.017223183065652847, -0.015772318467497826, -0.023579860106110573, -0.047647785395383835, 0.013918811455368996, 0.01264992170035839, 0.024066120386123657, 0.060297299176454544, 0.024409202858805656, -0.022052759304642677, 0.046836111694574356, 0.019259899854660034, -0.008594644255936146, 0.03237413614988327, 0.06842268258333206, 0.019236721098423004, -0.06215284392237663, 0.027257388457655907, 0.018801739439368248, 0.060846008360385895, -0.014322225004434586, 0.005302148871123791, 0.04905040189623833, -0.02800007537007332, 0.0301166083663702, 0.07826752960681915, 0.028333907946944237, 0.02185240387916565, 0.033358439803123474, -0.0011651284294202924, -0.01960759423673153, -0.02253207191824913, -0.0457143671810627, 0.03957757726311684, 0.0004158566880505532, 0.002913110889494419, 0.01237789448350668, 0.007741914596408606, -0.026161566376686096, 0.001130815944634378, -0.048237599432468414, -0.01696586050093174, -0.006339028477668762, -0.033016182482242584, -0.047825902700424194, -0.04889003559947014, 0.03727224841713905, -0.021554943174123764, 0.015568306669592857, 0.029466204345226288, -0.02743968367576599, 0.015459503047168255, 0.01431057695299387, 0.017573131248354912, 0.054896410554647446, 0.004065378103405237, 0.04706236720085144, -0.03991298750042915, 0.01800784096121788, -0.052422232925891876, 0.028625834733247757, 0.03705640509724617, -0.001186962123028934], statistics=TextEmbeddingStatistics(token_count=1.0, truncated=False), _prediction_response=Prediction(predictions=[{'embeddings': {'statistics': {'token_count': 1.0, 'truncated': False}, 'values': [-0.010603697039186954, -0.015785258263349533, -0.010502871125936508, 0.002185781253501773, -0.07148707658052444, 0.04219384118914604, -0.010504273697733879, 0.03097270429134369, 0.03328254073858261, 0.05283762887120247, -0.004809410311281681, -0.0398193821310997, 0.07342298328876495, -0.04157464578747749, -0.0064167664386332035, -0.09088578075170517, -0.049317650496959686, -0.030094314366579056, -0.061477649956941605, -0.03391197696328163, 0.037252277135849, 0.011168363504111767, 0.023280510678887367, -0.02333776280283928, -0.0038556549698114395, -0.0060250903479754925, -0.02745829150080681, 0.014007600955665112, 0.018123144283890724, -0.024052545428276062, 0.016361013054847717, -0.00881562102586031, 0.0010356297716498375, 0.022376632317900658, 0.06061168387532234, -0.006580675952136517, -0.06944117695093155, 0.0012955393176525831, -0.026413124054670334, -0.08057834208011627, -0.01334639173001051, -0.023707639425992966, 0.013900559395551682, 0.02601812407374382, -0.0006510406965389848, -0.005294468253850937, -0.00321800890378654, -0.021438052877783775, 0.00940287671983242, 0.07686906307935715, 0.0002932707720901817, -0.025412667542696, -0.03370207920670509, 0.02116345800459385, -0.022938288748264313, -0.03589918836951256, -0.04262949898838997, -0.04238056018948555, 0.07277403026819229, -0.028388572856783867, -0.0006210078136064112, 0.026923000812530518, -0.010528121143579483, -0.03597910329699516, -0.037092648446559906, 0.02633632719516754, 0.003019934054464102, 0.01615311950445175, -0.028586063534021378, 0.03956019878387451, 0.009466834366321564, 0.011213131248950958, -0.038920965045690536, 0.006397536024451256, -0.056603409349918365, 0.05464043840765953, 0.01555588748306036, -0.003721055341884494, -0.08006066083908081, 0.05400155857205391, 0.008969123475253582, 0.00391283119097352, 0.02683402970433235, 0.0700603723526001, 0.06428323686122894, 0.028848934918642044, -0.04828403517603874, -0.017241662368178368, -0.0811377540230751, -0.00205546198412776, 0.04677676409482956, 0.04105139896273613, 0.006749842781573534, 0.005010329652577639, 0.07950635999441147, 0.063634492456913, -0.0942498967051506, -0.0015704203397035599, 0.028985416516661644, -0.0015516288112848997, 0.013728078454732895, -0.021534685045480728, 0.01814144104719162, -0.06859030574560165, 0.027518976479768753, 0.004596373997628689, -0.038975995033979416, -0.004548148717731237, -0.009070185013115406, -0.04400995746254921, 0.01097231637686491, -0.08058805018663406, -0.008219285868108273, 0.014930661767721176, 0.023255983367562294, 0.012145955115556717, -0.01932680234313011, -0.013997192494571209, -0.025524532422423363, 0.017750918865203857, 0.020609769970178604, 0.0009012157679535449, -0.036711979657411575, 0.08481928706169128, 0.10343533009290695, -0.010952388867735863, -0.02146262302994728, -0.05104287713766098, -0.026986252516508102, -0.02317090332508087, -0.026272036135196686, -0.09552034735679626, 0.010392510332167149, 0.05316291004419327, -0.043584439903497696, 0.02667425572872162, 0.05061808601021767, -0.012547865509986877, -0.00709367822855711, -0.05084004998207092, 0.03216160088777542, -0.04831324517726898, 0.029115373268723488, 0.028343098238110542, 0.0020916457287967205, 0.02850634790956974, 0.031791575253009796, 0.009446785785257816, -0.00787854753434658, -0.029273249208927155, -0.06950090080499649, -0.042650263756513596, 0.08281341195106506, -0.03691330924630165, -0.022386187687516212, 0.023013737052679062, 0.00846082717180252, -0.011081086471676826, 0.08040672540664673, -0.015599295496940613, 0.0042146481573581696, -0.05981913581490517, -0.01838221214711666, 0.010473884642124176, -0.010492013767361641, -0.027427105233073235, 0.02890017442405224, -0.01778249256312847, -0.02204977162182331, 0.002234464744105935, 0.0093761645257473, -0.013949326239526272, -0.08525868505239487, -0.036253273487091064, -0.014163916930556297, -0.00852521974593401, -0.007063600700348616, -0.0006637044134549797, -0.018135977908968925, -0.03217447176575661, 0.0841849148273468, -0.04855671525001526, -0.029869545251131058, -0.014992991462349892, -0.03351792320609093, -0.026696305721998215, 0.03786129876971245, 0.05653427541255951, 0.01852555014193058, 0.025861553847789764, -0.03718416765332222, 0.00449338648468256, 0.02713601477444172, -0.011436535976827145, 0.024765096604824066, -0.010320587083697319, 0.039858754724264145, -0.004407841712236404, 0.0005814312025904655, 0.04733401909470558, -0.06402815133333206, -0.014833766967058182, -0.005759913474321365, -0.01992872729897499, 0.02431197464466095, 0.00906569417566061, -0.05445150285959244, -0.05670452490448952, 0.030990278348326683, 0.037142377346754074, -0.04395100846886635, 0.006174481473863125, -0.07085045427083969, -0.04721906781196594, -0.04911553114652634, 0.06057418882846832, 0.04912431910634041, -0.022459423169493675, 0.08973006904125214, -0.05142001062631607, -0.01441668439656496, -0.02276160567998886, 0.02443910576403141, -0.05223244056105614, 0.004237817134708166, 0.01133660227060318, -0.037781231105327606, -0.06108153611421585, 0.004002431407570839, -0.05278969183564186, 0.0252494215965271, -0.026208434253931046, -0.05916653200984001, -0.013765339739620686, 0.006964588072150946, -0.0023793044965714216, 0.002955361269414425, 0.0001732914097374305, 0.009687175042927265, -0.026647347956895828, 0.06358517706394196, -0.11003956943750381, 0.0010685899760574102, -0.0584876649081707, 0.02914433367550373, 0.011398800648748875, 0.008921743370592594, 0.10872974246740341, 0.0111859031021595, -0.038720495998859406, -0.027047915384173393, -0.024961896240711212, -0.0164177305996418, -0.016962261870503426, -0.015258010476827621, 0.031523432582616806, 0.02611803077161312, 0.010739791207015514, -0.017306506633758545, -0.026649480685591698, 0.05514015629887581, -0.05998355150222778, -0.043124280869960785, -0.0276115071028471, -0.01283068023622036, -0.07658819854259491, 0.06243053451180458, -0.0001964710099855438, 0.033361103385686874, -0.003223026404157281, 0.034548498690128326, -0.0184679813683033, -0.008636508136987686, -0.013731935992836952, -0.045717909932136536, 0.03877277672290802, 0.0027587434742599726, 0.05571486055850983, -0.0006907673086971045, 0.0012256753398105502, 0.06163559854030609, -0.0191092137247324, -0.025037772953510284, 0.01485697366297245, 0.044470664113759995, 0.037252336740493774, 0.023180602118372917, -0.012867613695561886, 0.027343448251485825, -0.02950374409556389, 0.06128988042473793, -0.00860225223004818, 0.0068280138075351715, 0.004693319555372, -0.009483606554567814, -0.024520104750990868, 0.02404840476810932, 0.059835657477378845, 0.006189923733472824, -0.024426927790045738, -0.0032689988147467375, 0.046721238642930984, -0.05002856254577637, 0.03338296338915825, 0.004820667672902346, -0.024760697036981583, 0.018724586814641953, 0.007675162050873041, -0.02837437577545643, 0.010223654098808765, -0.052511684596538544, -0.018141772598028183, -0.017706725746393204, 0.028590939939022064, -0.013974710367619991, -0.01943899877369404, -0.10333750396966934, -0.01484856940805912, -0.014938470907509327, -0.030497198924422264, 0.028486724942922592, 0.0041936784982681274, -0.021444080397486687, 0.0219043530523777, 0.07735703885555267, -0.01624034158885479, -0.014183023944497108, 0.003089699661359191, -0.006500265095382929, 0.0036703653167933226, 0.0323321707546711, -0.017580188810825348, 0.015800705179572105, 0.023266099393367767, -0.0013371265958994627, 0.012991334311664104, -0.00742543488740921, 0.04531230032444, 0.03021419048309326, 0.05529709905385971, 0.006037502083927393, -0.028839070349931717, 0.009546691551804543, 0.020856676623225212, 0.01993865706026554, 0.0127677321434021, 0.050755783915519714, -0.01781132072210312, 0.025833114981651306, -0.08339347690343857, 0.04038842022418976, 0.029843732714653015, 0.037451840937137604, -0.04979953169822693, 0.014424936845898628, -0.04098869487643242, 0.03832191973924637, 0.022438038140535355, -0.012040939182043076, -0.03641952574253082, -0.029315728694200516, -0.004133639391511679, -0.024816658347845078, -0.019397173076868057, -0.01839202642440796, 0.01930398680269718, 0.004766784142702818, 0.05399566516280174, 0.0448046438395977, -0.018445394933223724, 0.04886546730995178, 0.009267318993806839, -0.03912874683737755, 0.00910734012722969, 0.024122588336467743, -0.0081983283162117, -0.051502835005521774, 0.057948023080825806, -0.002169911051169038, -0.09431181848049164, -0.022351762279868126, -0.013966032303869724, -0.03717697039246559, 0.019530238583683968, -0.0015293399337679148, 0.04874429106712341, -0.010596668347716331, -0.010912997648119926, 0.01855200156569481, -0.014634773135185242, -0.03831145912408829, 0.08978287130594254, -0.00963220838457346, 0.01847650669515133, -0.02376982755959034, -0.014597377739846706, 0.013843400403857231, 0.010169985704123974, -0.03490203619003296, -0.01830579899251461, 0.025915343314409256, -0.01607959344983101, 0.07631926238536835, -0.019650250673294067, -0.025828462094068527, 0.001771331182681024, 0.04616708308458328, 0.004511596634984016, 0.03520118445158005, -0.029763584956526756, 0.022279532626271248, 0.025395814329385757, 0.04377366602420807, -0.02651526778936386, -0.04118425026535988, -0.0129794767126441, 0.014396550133824348, -0.03170301765203476, 0.04776594787836075, -0.011578145436942577, -0.02265494503080845, -0.016566749662160873, 0.04762335494160652, -0.013345989398658276, -0.027706405147910118, -0.0777575671672821, 0.014431932009756565, -0.011084023863077164, 0.006794529035687447, 0.002548281569033861, 0.03256020322442055, 0.023042986169457436, -0.023621201515197754, -0.012263371609151363, 0.03598605468869209, 0.011388647370040417, 0.01532072201371193, 0.04096400737762451, 0.019309109076857567, -0.0017975253285840154, -0.026949265971779823, 0.009933504275977612, 0.014823174104094505, 0.023127064108848572, -0.019832216203212738, 0.039939455687999725, 0.05916908383369446, -0.023015033453702927, -0.05409834533929825, -0.013680171221494675, 0.05494893342256546, -0.02295299619436264, 0.036788299679756165, -0.031378477811813354, 0.04738037660717964, 0.028681840747594833, -0.0139415068551898, -0.008071147836744785, -0.00030085479374974966, 0.05149887502193451, -0.013453192077577114, -0.00723681878298521, 0.016048720106482506, 0.02430514432489872, 0.05446556955575943, -0.003860551631078124, 0.0021666043903678656, 0.02260645106434822, 0.031245611608028412, 0.09123329073190689, 0.056649357080459595, -0.007128556724637747, 0.009171633049845695, -0.018595991656184196, -0.020454172044992447, 0.03292118012905121, 0.01538221724331379, -0.019461294636130333, -0.03165173903107643, 0.06678548455238342, 0.04749967157840729, 0.0150290010496974, -0.010523160919547081, 0.025190288200974464, 0.057084646075963974, -0.013202592730522156, -0.02654292620718479, -0.030980253592133522, 0.022162778303027153, -0.015243379399180412, 0.047575999051332474, 0.02160041406750679, 0.017420873045921326, -0.06495514512062073, -0.03920523449778557, 0.012768288142979145, -0.006731091067194939, 0.04553525522351265, -0.004666438791900873, -0.020213404670357704, 0.051836155354976654, 0.001251294044777751, -0.0033974326215684414, 0.012632039375603199, -0.024888038635253906, 0.019669609144330025, -0.047077685594558716, -0.05775763839483261, 0.05555597320199013, -0.01622444950044155, 0.034949108958244324, 0.01230822317302227, 0.028899060562253, 0.018621807917952538, 0.004789328668266535, 0.017714906483888626, -0.05204429477453232, 0.0455668643116951, 0.010473605245351791, 0.07211866229772568, -0.0004968891735188663, -0.05726657435297966, 0.01463402435183525, -0.04309394955635071, -0.007316401693969965, -0.0046883998438715935, -0.01434434112161398, 0.011060856282711029, 0.05561113357543945, -0.012604731135070324, 0.030721528455615044, -0.028081102296710014, 0.045574259012937546, -0.01617809385061264, 0.038644373416900635, 0.07582675665616989, -0.013978063128888607, -0.006735680159181356, 0.010430126450955868, 0.0318126417696476, 0.02257845550775528, -0.022430483251810074, 0.04169121012091637, 0.030688269063830376, -0.02443869039416313, 0.005351726431399584, 0.02948780171573162, 0.042482953518629074, -0.01274250727146864, 0.09286229312419891, -0.03160225600004196, -0.011171177960932255, -0.005997949745506048, -0.015342362225055695, -0.01038638036698103, -0.031371355056762695, 0.06125239282846451, 0.009497708640992641, -0.03396226465702057, 0.027818793430924416, -0.026083823293447495, -0.03606271371245384, 0.010566553100943565, -0.0010260810377076268, -0.006167984567582607, 0.03156890720129013, 0.015687251463532448, -0.0019182664109393954, 0.015092341229319572, 0.010836858302354813, 0.040097396820783615, -0.0045430902391672134, -0.010930762626230717, 0.028351102024316788, 0.049945004284381866, 0.0118186566978693, -0.031214019283652306, -0.01661531627178192, -0.023748181760311127, -0.021926524117588997, 0.0032768752425909042, -0.017296941950917244, 0.1055062934756279, 0.014070526696741581, -0.02235393412411213, 0.015534519217908382, 0.018203480169177055, -0.01765526831150055, 0.019168106839060783, -0.03769755735993385, 0.0015959807205945253, -0.003155477112159133, 0.01581723429262638, -0.05010247230529785, 0.009247379377484322, 0.011590265668928623, -0.03467681258916855, 0.01755370758473873, 0.06283342838287354, 0.05117258056998253, -0.06398250162601471, -0.017627933993935585, -0.011003036051988602, -0.005658545531332493, 0.013598360121250153, -0.06425724923610687, -0.021882783621549606, -0.04779011756181717, 0.025167012587189674, -0.05398214980959892, 0.013408658094704151, 0.04187200218439102, -0.04191530495882034, -0.019218668341636658, -0.10295381397008896, 0.027095433324575424, -0.056539714336395264, 0.035976096987724304, 0.05136154592037201, -0.005664843134582043, -0.03156718984246254, 0.05744076892733574, 0.02951471321284771, 0.056498218327760696, -0.10021109879016876, 0.010274222120642662, -0.03525758534669876, 0.040560733526945114, 0.0184898991137743, 0.023404715582728386, -0.05571320652961731, -0.011228282004594803, 0.02296329289674759, 0.004748383536934853, -0.03817560523748398, 0.02152267098426819, -0.05389505997300148, 0.01769114099442959, -0.002180658048018813, 0.024612460285425186, 0.03072543255984783, 0.05699281394481659, 0.03015727736055851, 0.05962520092725754, -0.07019662111997604, 0.08709132671356201, -0.02285941317677498, -0.03241833671927452, -5.888378291274421e-05, 0.01694333553314209, -0.050812672823667526, 0.030446594581007957, 0.017400583252310753, -0.002860475331544876, -0.005383781623095274, 0.018334563821554184, -0.049633268266916275, -0.07394129782915115, 0.017475951462984085, -0.03669628128409386, 0.02633841149508953, 0.022541899234056473, 0.055364158004522324, -0.004453456960618496, -0.020520517602562904, 0.017903415486216545, -0.006666789297014475, 0.0012544713681563735, 0.005460117477923632, 0.016703885048627853, -0.048064179718494415, 0.07100316882133484, 0.016775382682681084, 0.006560034584254026, 0.0036849123425781727, 0.026341505348682404, 0.011658424511551857, -0.04006168618798256, -0.0015082495519891381, 0.018115784972906113, -0.00681281927973032, -0.05617921054363251, -0.0003114907012786716, -0.009136689826846123, -0.03570712357759476, -0.024089660495519638, 0.08921591192483902, -0.0490446612238884, 0.01943305693566799, -0.006692301016300917, -0.009461221285164356, -0.08475212752819061, -0.04341612011194229, -0.0208466537296772, 0.027773363515734673, 0.08003177493810654, -0.04328188672661781, 0.04014637693762779, 0.004229671321809292, -0.0581497997045517, -0.010118965059518814, 0.004482626914978027, -0.05030950903892517, -0.008759786374866962, 0.07457967847585678, 0.017223183065652847, -0.015772318467497826, -0.023579860106110573, -0.047647785395383835, 0.013918811455368996, 0.01264992170035839, 0.024066120386123657, 0.060297299176454544, 0.024409202858805656, -0.022052759304642677, 0.046836111694574356, 0.019259899854660034, -0.008594644255936146, 0.03237413614988327, 0.06842268258333206, 0.019236721098423004, -0.06215284392237663, 0.027257388457655907, 0.018801739439368248, 0.060846008360385895, -0.014322225004434586, 0.005302148871123791, 0.04905040189623833, -0.02800007537007332, 0.0301166083663702, 0.07826752960681915, 0.028333907946944237, 0.02185240387916565, 0.033358439803123474, -0.0011651284294202924, -0.01960759423673153, -0.02253207191824913, -0.0457143671810627, 0.03957757726311684, 0.0004158566880505532, 0.002913110889494419, 0.01237789448350668, 0.007741914596408606, -0.026161566376686096, 0.001130815944634378, -0.048237599432468414, -0.01696586050093174, -0.006339028477668762, -0.033016182482242584, -0.047825902700424194, -0.04889003559947014, 0.03727224841713905, -0.021554943174123764, 0.015568306669592857, 0.029466204345226288, -0.02743968367576599, 0.015459503047168255, 0.01431057695299387, 0.017573131248354912, 0.054896410554647446, 0.004065378103405237, 0.04706236720085144, -0.03991298750042915, 0.01800784096121788, -0.052422232925891876, 0.028625834733247757, 0.03705640509724617, -0.001186962123028934]}}], deployed_model_id='', metadata={'billableCharacterCount': 4.0}, model_version_id='', model_resource_name='', explanations=None))]\n"
     ]
    }
   ],
   "source": [
    "embedding=embedding_model.get_embeddings(['life'])\n",
    "print(embedding)"
   ]
  },
  {
   "cell_type": "markdown",
   "metadata": {},
   "source": [
    "Explore the embedding generated by printing the lenght and the first 10 values."
   ]
  },
  {
   "cell_type": "code",
   "execution_count": 8,
   "metadata": {
    "tags": []
   },
   "outputs": [
    {
     "name": "stdout",
     "output_type": "stream",
     "text": [
      "Length=768\n",
      "[-0.010603697039186954, -0.015785258263349533, -0.010502871125936508, 0.002185781253501773, -0.07148707658052444, 0.04219384118914604, -0.010504273697733879, 0.03097270429134369, 0.03328254073858261, 0.05283762887120247]\n"
     ]
    }
   ],
   "source": [
    "vector=embedding[0].values\n",
    "print(f\"Length={len(vector)}\")\n",
    "print(vector[:10])"
   ]
  },
  {
   "cell_type": "markdown",
   "metadata": {
    "tags": []
   },
   "source": [
    "## Generate a sentence embedding."
   ]
  },
  {
   "cell_type": "code",
   "execution_count": 15,
   "metadata": {
    "tags": []
   },
   "outputs": [],
   "source": [
    "sentence_embedding = embedding_model.get_embeddings(['What is the meaning of life?'])"
   ]
  },
  {
   "cell_type": "code",
   "execution_count": 16,
   "metadata": {
    "tags": []
   },
   "outputs": [
    {
     "name": "stdout",
     "output_type": "stream",
     "text": [
      "Length = 768\n",
      "[-0.010626512579619884, 0.019580397754907608, 0.020961495116353035, 0.0007800217717885971, -0.06189257651567459, 0.014572087675333023, -0.0022393004037439823, 0.013389108702540398, 0.014531472697854042, 0.022664014250040054]\n"
     ]
    }
   ],
   "source": [
    "vector = sentence_embedding[0].values\n",
    "print(f\"Length = {len(vector)}\")\n",
    "print(vector[:10])"
   ]
  },
  {
   "cell_type": "markdown",
   "metadata": {},
   "source": [
    "# Task 3. Calculate the similarity from embeddings"
   ]
  },
  {
   "cell_type": "code",
   "execution_count": 17,
   "metadata": {
    "tags": []
   },
   "outputs": [],
   "source": [
    "from sklearn.metrics.pairwise import cosine_similarity"
   ]
  },
  {
   "cell_type": "markdown",
   "metadata": {},
   "source": [
    "### Create 3 embeddings for 3 different sentences, so that we can compare them to each other."
   ]
  },
  {
   "cell_type": "code",
   "execution_count": 23,
   "metadata": {
    "tags": []
   },
   "outputs": [],
   "source": [
    "emb_1 = embedding_model.get_embeddings(['Who is vasudeva?'])\n",
    "emb_2 = embedding_model.get_embeddings(['krishna lifted govarthan mountain for 7 days'])\n",
    "emb_3 = embedding_model.get_embeddings(['krishna is supreme lord'])\n",
    "\n",
    "vec_1 = [emb_1[0].values]\n",
    "vec_2 = [emb_2[0].values]\n",
    "vec_3 = [emb_3[0].values]"
   ]
  },
  {
   "cell_type": "markdown",
   "metadata": {},
   "source": [
    "Note: the reason we wrap the embeddings (a Python list) in another list is because the cosine_similarity function expects either a 2D numpy array or a list of lists."
   ]
  },
  {
   "cell_type": "code",
   "execution_count": 24,
   "metadata": {
    "tags": []
   },
   "outputs": [
    {
     "name": "stdout",
     "output_type": "stream",
     "text": [
      "[[0.44760961]]\n",
      "[[0.55410951]]\n",
      "[[0.49737288]]\n"
     ]
    }
   ],
   "source": [
    "print(cosine_similarity(vec_1,vec_2)) \n",
    "print(cosine_similarity(vec_2,vec_3))\n",
    "print(cosine_similarity(vec_1,vec_3))"
   ]
  },
  {
   "cell_type": "markdown",
   "metadata": {},
   "source": [
    "## Task 4. Visualizing Embedddings\n",
    "In this task, we will create embeddings for several sentences. Then we will reduce the dimensions from 768 to only 2, so that we can visualize the vectors in plot. We will see graphically that similar vectors are represented closer to one another."
   ]
  },
  {
   "cell_type": "code",
   "execution_count": 25,
   "metadata": {
    "tags": []
   },
   "outputs": [],
   "source": [
    "in_1 = \"Missing flamingo discovered at swimming pool\"\n",
    "in_2 = \"Sea otter spotted on surfboard by beach\"\n",
    "in_3 = \"Baby panda enjoys boat ride\"\n",
    "in_4 = \"Breakfast themed food truck beloved by all!\"\n",
    "in_5 = \"New curry restaurant aims to please!\"\n",
    "in_6 = \"Python developers are wonderful people\"\n",
    "in_7 = \"TypeScript, C++ or Java? All are great!\" \n",
    "\n",
    "input_text_lst_news = [in_1, in_2, in_3, in_4, in_5, in_6, in_7]"
   ]
  },
  {
   "cell_type": "code",
   "execution_count": 27,
   "metadata": {
    "tags": []
   },
   "outputs": [],
   "source": [
    "# get the embeddings for each of them\n",
    "embeddings = []\n",
    "for input_text in input_text_lst_news:\n",
    "    emb = embedding_model.get_embeddings(\n",
    "        [input_text])[0].values\n",
    "    embeddings.append(emb)"
   ]
  },
  {
   "cell_type": "code",
   "execution_count": 29,
   "metadata": {
    "tags": []
   },
   "outputs": [
    {
     "name": "stdout",
     "output_type": "stream",
     "text": [
      "Shape: (7, 768)\n",
      "[[ 0.02803496 -0.00299724 -0.01659381 ... -0.01121059 -0.00519713\n",
      "  -0.02044056]\n",
      " [ 0.00485451  0.03049659 -0.01399871 ... -0.01616582 -0.03072107\n",
      "   0.01834136]\n",
      " [ 0.03935665 -0.03734451 -0.06938332 ... -0.02096844 -0.01913369\n",
      "   0.02881981]\n",
      " ...\n",
      " [ 0.00716709 -0.05124414  0.01775808 ...  0.00892509 -0.00407107\n",
      "   0.00254001]\n",
      " [ 0.03583142 -0.05428725  0.00165318 ... -0.01935553  0.04669554\n",
      "   0.02359349]\n",
      " [ 0.05533755 -0.0237293  -0.03609464 ... -0.03040388  0.02278006\n",
      "   0.01252656]]\n"
     ]
    }
   ],
   "source": [
    "# Store them in a 2D NumPy array, with one row for each embedding.\n",
    "import numpy as np\n",
    "embeddings_array = np.array(embeddings) \n",
    "print(\"Shape: \" + str(embeddings_array.shape))\n",
    "print(embeddings_array)"
   ]
  },
  {
   "cell_type": "markdown",
   "metadata": {},
   "source": [
    "### Reduce embeddings from 768 to 2 dimensions so that we can visualize them. We'll use principal component analysis (PCA)."
   ]
  },
  {
   "cell_type": "code",
   "execution_count": 30,
   "metadata": {
    "tags": []
   },
   "outputs": [],
   "source": [
    "from sklearn.decomposition import PCA\n",
    "\n",
    "# Perform PCA for 2D visualization\n",
    "PCA_model = PCA(n_components = 2)\n",
    "PCA_model.fit(embeddings_array)\n",
    "new_values = PCA_model.transform(embeddings_array)"
   ]
  },
  {
   "cell_type": "code",
   "execution_count": 31,
   "metadata": {
    "tags": []
   },
   "outputs": [
    {
     "name": "stdout",
     "output_type": "stream",
     "text": [
      "Shape: (7, 2)\n",
      "[[ 0.49533001  0.17530328]\n",
      " [ 0.47394037  0.16537099]\n",
      " [ 0.34864739  0.11626409]\n",
      " [-0.01331229 -0.5433861 ]\n",
      " [-0.22950727 -0.56127286]\n",
      " [-0.4674816   0.36944202]\n",
      " [-0.60761662  0.27827859]]\n"
     ]
    }
   ],
   "source": [
    "print(\"Shape: \" + str(new_values.shape))\n",
    "print(new_values)"
   ]
  },
  {
   "cell_type": "code",
   "execution_count": 33,
   "metadata": {
    "tags": []
   },
   "outputs": [
    {
     "name": "stdout",
     "output_type": "stream",
     "text": [
      "Collecting ipympl\n",
      "  Downloading ipympl-0.9.5-py3-none-any.whl.metadata (8.8 kB)\n",
      "Collecting plot-utils\n",
      "  Downloading plot_utils-0.6.14-py2.py3-none-any.whl.metadata (18 kB)\n",
      "Requirement already satisfied: matplotlib in /opt/conda/lib/python3.10/site-packages (3.9.2)\n",
      "Requirement already satisfied: seaborn in /opt/conda/lib/python3.10/site-packages (0.13.2)\n",
      "Requirement already satisfied: ipython<9 in /opt/conda/lib/python3.10/site-packages (from ipympl) (8.21.0)\n",
      "Requirement already satisfied: ipywidgets<9,>=7.6.0 in /opt/conda/lib/python3.10/site-packages (from ipympl) (8.1.5)\n",
      "Requirement already satisfied: numpy in /opt/conda/lib/python3.10/site-packages (from ipympl) (1.26.4)\n",
      "Requirement already satisfied: pillow in /opt/conda/lib/python3.10/site-packages (from ipympl) (11.0.0)\n",
      "Requirement already satisfied: traitlets<6 in /opt/conda/lib/python3.10/site-packages (from ipympl) (5.14.3)\n",
      "Requirement already satisfied: scipy>=0.19.0 in /opt/conda/lib/python3.10/site-packages (from plot-utils) (1.13.1)\n",
      "Requirement already satisfied: pandas>=0.17.1 in /opt/conda/lib/python3.10/site-packages (from plot-utils) (2.2.3)\n",
      "Requirement already satisfied: cycler>=0.10.0 in /opt/conda/lib/python3.10/site-packages (from plot-utils) (0.12.1)\n",
      "Requirement already satisfied: contourpy>=1.0.1 in /opt/conda/lib/python3.10/site-packages (from matplotlib) (1.3.1)\n",
      "Requirement already satisfied: fonttools>=4.22.0 in /opt/conda/lib/python3.10/site-packages (from matplotlib) (4.55.0)\n",
      "Requirement already satisfied: kiwisolver>=1.3.1 in /opt/conda/lib/python3.10/site-packages (from matplotlib) (1.4.7)\n",
      "Requirement already satisfied: packaging>=20.0 in /opt/conda/lib/python3.10/site-packages (from matplotlib) (24.1)\n",
      "Requirement already satisfied: pyparsing>=2.3.1 in /opt/conda/lib/python3.10/site-packages (from matplotlib) (3.2.0)\n",
      "Requirement already satisfied: python-dateutil>=2.7 in /opt/conda/lib/python3.10/site-packages (from matplotlib) (2.9.0.post0)\n",
      "Requirement already satisfied: decorator in /opt/conda/lib/python3.10/site-packages (from ipython<9->ipympl) (5.1.1)\n",
      "Requirement already satisfied: jedi>=0.16 in /opt/conda/lib/python3.10/site-packages (from ipython<9->ipympl) (0.19.2)\n",
      "Requirement already satisfied: matplotlib-inline in /opt/conda/lib/python3.10/site-packages (from ipython<9->ipympl) (0.1.7)\n",
      "Requirement already satisfied: prompt-toolkit<3.1.0,>=3.0.41 in /opt/conda/lib/python3.10/site-packages (from ipython<9->ipympl) (3.0.48)\n",
      "Requirement already satisfied: pygments>=2.4.0 in /opt/conda/lib/python3.10/site-packages (from ipython<9->ipympl) (2.18.0)\n",
      "Requirement already satisfied: stack-data in /opt/conda/lib/python3.10/site-packages (from ipython<9->ipympl) (0.6.3)\n",
      "Requirement already satisfied: exceptiongroup in /opt/conda/lib/python3.10/site-packages (from ipython<9->ipympl) (1.2.2)\n",
      "Requirement already satisfied: pexpect>4.3 in /opt/conda/lib/python3.10/site-packages (from ipython<9->ipympl) (4.9.0)\n",
      "Requirement already satisfied: comm>=0.1.3 in /opt/conda/lib/python3.10/site-packages (from ipywidgets<9,>=7.6.0->ipympl) (0.2.2)\n",
      "Requirement already satisfied: widgetsnbextension~=4.0.12 in /opt/conda/lib/python3.10/site-packages (from ipywidgets<9,>=7.6.0->ipympl) (4.0.13)\n",
      "Requirement already satisfied: jupyterlab-widgets~=3.0.12 in /opt/conda/lib/python3.10/site-packages (from ipywidgets<9,>=7.6.0->ipympl) (3.0.13)\n",
      "Requirement already satisfied: pytz>=2020.1 in /opt/conda/lib/python3.10/site-packages (from pandas>=0.17.1->plot-utils) (2024.2)\n",
      "Requirement already satisfied: tzdata>=2022.7 in /opt/conda/lib/python3.10/site-packages (from pandas>=0.17.1->plot-utils) (2024.2)\n",
      "Requirement already satisfied: six>=1.5 in /opt/conda/lib/python3.10/site-packages (from python-dateutil>=2.7->matplotlib) (1.16.0)\n",
      "Requirement already satisfied: parso<0.9.0,>=0.8.4 in /opt/conda/lib/python3.10/site-packages (from jedi>=0.16->ipython<9->ipympl) (0.8.4)\n",
      "Requirement already satisfied: ptyprocess>=0.5 in /opt/conda/lib/python3.10/site-packages (from pexpect>4.3->ipython<9->ipympl) (0.7.0)\n",
      "Requirement already satisfied: wcwidth in /opt/conda/lib/python3.10/site-packages (from prompt-toolkit<3.1.0,>=3.0.41->ipython<9->ipympl) (0.2.13)\n",
      "Requirement already satisfied: executing>=1.2.0 in /opt/conda/lib/python3.10/site-packages (from stack-data->ipython<9->ipympl) (2.1.0)\n",
      "Requirement already satisfied: asttokens>=2.1.0 in /opt/conda/lib/python3.10/site-packages (from stack-data->ipython<9->ipympl) (2.4.1)\n",
      "Requirement already satisfied: pure-eval in /opt/conda/lib/python3.10/site-packages (from stack-data->ipython<9->ipympl) (0.2.3)\n",
      "Downloading ipympl-0.9.5-py3-none-any.whl (516 kB)\n",
      "Downloading plot_utils-0.6.14-py2.py3-none-any.whl (13.3 MB)\n",
      "\u001b[2K   \u001b[90m━━━━━━━━━━━━━━━━━━━━━━━━━━━━━━━━━━━━━━━━\u001b[0m \u001b[32m13.3/13.3 MB\u001b[0m \u001b[31m48.6 MB/s\u001b[0m eta \u001b[36m0:00:00\u001b[0m00:01\u001b[0m\n",
      "\u001b[?25hInstalling collected packages: plot-utils, ipympl\n",
      "Successfully installed ipympl-0.9.5 plot-utils-0.6.14\n"
     ]
    }
   ],
   "source": [
    "#install visualization libraries\n",
    "!pip install ipympl plot-utils matplotlib seaborn"
   ]
  },
  {
   "cell_type": "markdown",
   "metadata": {},
   "source": [
    "### Visualize the output."
   ]
  },
  {
   "cell_type": "code",
   "execution_count": 34,
   "metadata": {
    "tags": []
   },
   "outputs": [
    {
     "data": {
      "text/plain": [
       "<seaborn.axisgrid.FacetGrid at 0x7fb3d3f95ae0>"
      ]
     },
     "execution_count": 34,
     "metadata": {},
     "output_type": "execute_result"
    },
    {
     "data": {
      "image/png": "[encoded data removed]",
      "text/plain": [
       "<Figure size 874.875x500 with 1 Axes>"
      ]
     },
     "metadata": {},
     "output_type": "display_data"
    }
   ],
   "source": [
    "import seaborn as sns\n",
    "import pandas as pd\n",
    "\n",
    "data = pd.DataFrame({ 'x':new_values[:,0], 'y':new_values[:,1], 'sentences': input_text_lst_news})\n",
    "\n",
    "# Create a visualization\n",
    "sns.relplot(\n",
    "    data,\n",
    "    x='x',\n",
    "    y='y',\n",
    "    kind='scatter',\n",
    "    hue='sentences'\n",
    ")"
   ]
  },
  {
   "cell_type": "code",
   "execution_count": null,
   "metadata": {},
   "outputs": [],
   "source": []
  },
  {
   "cell_type": "code",
   "execution_count": null,
   "metadata": {},
   "outputs": [],
   "source": []
  },
  {
   "cell_type": "code",
   "execution_count": null,
   "metadata": {},
   "outputs": [],
   "source": []
  },
  {
   "cell_type": "code",
   "execution_count": null,
   "metadata": {},
   "outputs": [],
   "source": []
  },
  {
   "cell_type": "code",
   "execution_count": null,
   "metadata": {},
   "outputs": [],
   "source": []
  },
  {
   "cell_type": "code",
   "execution_count": null,
   "metadata": {},
   "outputs": [],
   "source": []
  }
 ],
 "metadata": {
  "colab": {
   "collapsed_sections": [],
   "name": "notebook_template.ipynb",
   "toc_visible": true
  },
  "environment": {
   "kernel": "conda-base-py",
   "name": "workbench-notebooks.m126",
   "type": "gcloud",
   "uri": "us-docker.pkg.dev/deeplearning-platform-release/gcr.io/workbench-notebooks:m126"
  },
  "kernelspec": {
   "display_name": "Python 3 (ipykernel) (Local) (Local)",
   "language": "python",
   "name": "conda-base-py"
  },
  "language_info": {
   "codemirror_mode": {
    "name": "ipython",
    "version": 3
   },
   "file_extension": ".py",
   "mimetype": "text/x-python",
   "name": "python",
   "nbconvert_exporter": "python",
   "pygments_lexer": "ipython3",
   "version": "3.10.15"
  }
 },
 "nbformat": 4,
 "nbformat_minor": 4
}

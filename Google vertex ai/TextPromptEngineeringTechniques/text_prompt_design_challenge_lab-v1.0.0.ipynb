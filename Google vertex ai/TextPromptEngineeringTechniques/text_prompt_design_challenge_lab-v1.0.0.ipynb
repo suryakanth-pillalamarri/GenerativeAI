{
 "cells": [
  {
   "cell_type": "markdown",
   "metadata": {
    "id": "VEqbX8OhE8y9"
   },
   "source": [
    "# Text Prompt Design: Challenge Lab\n",
    "\n",
    "## Overview\n",
    "\n",
    "This challenge lab is designed to test your knowledge of calling Gemini and utilizing a few fundamental text prompt design techniques.\n",
    "\n",
    "Two featured guides on prompting from the Google Cloud documentation are:\n",
    "\n",
    "1. [Overview of prompting strategies](https://cloud.google.com/vertex-ai/generative-ai/docs/learn/prompts/prompt-design-strategies) from the Generative AI on Vertex AI documentation.\n",
    "\n",
    "2. [Prompt design strategies](https://ai.google.dev/gemini-api/docs/prompting-strategies) from the Gemini API documentation.\n",
    "\n",
    "Both contain good tips. You are encouraged to **bookmark them**.\n",
    "\n",
    "## Objective\n",
    "You will demonstrate your ability to:\n",
    "\n",
    "- Initialize Vertex AI in your environment\n",
    "- Load a generative model\n",
    "- Guide model output with a persona\n",
    "- Extract information to a schema\n",
    "- Stay on topic with fallback responses\n",
    "- Use examples to influence the model's response\n",
    "\n",
    "Some of the following Python notebook cells have missing or incomplete code sections and tasks that need to be completed, indicated by the code comments starting with `# TODO`. Your challenge is to complete each cell, run it to test for correctness, and then move on. When all the cells are working, you have completed the challenge.\n",
    "\n",
    "**Note:** If you need help, [this notebook demonstrates getting started using Gemini in Python](https://github.com/GoogleCloudPlatform/generative-ai/blob/main/gemini/getting-started/intro_gemini_python.ipynb)."
   ]
  },
  {
   "cell_type": "markdown",
   "metadata": {
    "id": "N5afkyDMSBW5"
   },
   "source": [
    "## Task 1. Install, import & initialize the Vertex AI SDK and a generative model\n",
    "\n",
    "1. Install the Vertex AI SDK."
   ]
  },
  {
   "cell_type": "code",
   "execution_count": 2,
   "metadata": {
    "id": "kc4WxYmLSBW5",
    "tags": []
   },
   "outputs": [
    {
     "name": "stdout",
     "output_type": "stream",
     "text": [
      "Note: you may need to restart the kernel to use updated packages.\n"
     ]
    }
   ],
   "source": [
    "# TODO: Complete the following pip command\n",
    "# !pip install google-cloud-aiplatform\n",
    "%pip install --upgrade --quiet google-cloud-aiplatform"
   ]
  },
  {
   "cell_type": "code",
   "execution_count": 5,
   "metadata": {
    "tags": []
   },
   "outputs": [
    {
     "data": {
      "text/plain": [
       "{'status': 'ok', 'restart': True}"
      ]
     },
     "execution_count": 5,
     "metadata": {},
     "output_type": "execute_result"
    }
   ],
   "source": [
    "import IPython\n",
    "\n",
    "app = IPython.Application.instance()\n",
    "\n",
    "app.kernel.do_shutdown(True)"
   ]
  },
  {
   "cell_type": "markdown",
   "metadata": {
    "id": "BuQwwRiniVFG"
   },
   "source": [
    "2. Restart your notebook kernel.\n",
    "3. Import the following:\n",
    "- the Vertex AI SDK\n",
    "- the class to instantiate a generative model from the Vertex AI generative models module"
   ]
  },
  {
   "cell_type": "code",
   "execution_count": 5,
   "metadata": {
    "id": "kpdnPWaTK27C",
    "tags": []
   },
   "outputs": [],
   "source": [
    "# TODO: Complete the imports\n",
    "import vertexai\n",
    "from vertexai.generative_models import GenerativeModel, GenerationConfig,HarmBlockThreshold,HarmCategory,Image,Part,SafetySetting"
   ]
  },
  {
   "cell_type": "code",
   "execution_count": null,
   "metadata": {},
   "outputs": [],
   "source": []
  },
  {
   "cell_type": "markdown",
   "metadata": {
    "id": "6Fom0ZkMSBW6"
   },
   "source": [
    "4. Initialize Vertex AI with your project ID and a location (you can use like `us-central1`).\n"
   ]
  },
  {
   "cell_type": "code",
   "execution_count": 8,
   "metadata": {
    "id": "LCaCx6PLSBW6",
    "tags": []
   },
   "outputs": [],
   "source": [
    "# TODO: Insert the required steps here\n",
    "PROJECT_ID = \"qwiklabs-gcp-03-f48447bb46fc\"\n",
    "LOCATION = \"us-central1\"\n",
    "import vertexai\n",
    "vertexai.init(project=PROJECT_ID, location=LOCATION)\n"
   ]
  },
  {
   "cell_type": "markdown",
   "metadata": {
    "id": "O8DUcgKJK27C"
   },
   "source": [
    "5. Instantiate a generative model and save it to the `generative_model` variable. For this notebook, use `gemini-pro` as your model version. When instantiating the model, pass a `generation_config` parameter with the temperature set to 0."
   ]
  },
  {
   "cell_type": "code",
   "execution_count": 9,
   "metadata": {
    "id": "2998506fe6d1",
    "tags": []
   },
   "outputs": [],
   "source": [
    "# TODO: Insantiate a \"gemini-pro\" model with a configured temperature of 0.\n",
    "generative_model = GenerativeModel(\"gemini-pro\")"
   ]
  },
  {
   "cell_type": "markdown",
   "metadata": {
    "id": "h3YN2rf1K27C"
   },
   "source": [
    "6. Complete the TODO's in this function, which you will use for the rest of the lab:"
   ]
  },
  {
   "cell_type": "code",
   "execution_count": 13,
   "metadata": {
    "id": "joXl2V2JK27D",
    "tags": []
   },
   "outputs": [
    {
     "name": "stdout",
     "output_type": "stream",
     "text": [
      "## The Story of Dronacharya, Eklavya, and the Thumb\n",
      "\n",
      "Within the epic Mahabharata, Dronacharya's decision to ask for Eklavya's thumb as payment for his archery lessons remains a complex and debated topic. Here are the key aspects of the story and some interpretations:\n",
      "\n",
      "**The Story:**\n",
      "\n",
      "* Eklavya, a young tribal prince, was passionate about archery and sought training from Dronacharya, who was the renowned teacher of the Pandavas and Kauravas. \n",
      "* Dronacharya, however, refused to teach Eklavya as he was bound by his oath to teach only the princes and their associates.\n",
      "* Undeterred, Eklavya created a clay statue of Dronacharya and practiced relentlessly before it, considering it his teacher.\n",
      "* His dedication and passion impressed Dronacharya, who later encountered him during a hunting expedition and realized his exceptional skills.\n",
      "* As Eklavya acknowledged Dronacharya as his guru, Dronacharya, bound by his duty to the princes, demanded the thumb of his right hand as \"guru dakshina\" (teacher's fee).\n",
      "* Eklavya, despite the devastating consequence for his archery skills, readily offered his thumb as a mark of respect and dedication to his guru.\n",
      "\n",
      "**Interpretations:**\n",
      "\n",
      "* **Guru Dakshina:** Dronacharya's demand for Eklavya's thumb can be seen as a symbolic act of fulfilling his obligation to the princes. By taking away Eklavya's advantage, he ensured that the princes retained their superiority in the field of archery.\n",
      "* **Social Hierarchy:** The act can also be interpreted within the context of the prevailing social hierarchy. Dronacharya, belonging to the Kshatriya (warrior) caste, might have seen it as his duty to maintain the social order by preventing a lower-caste individual from excelling in a skill traditionally associated with the warrior class.\n",
      "* **Loyalty and Sacrifice:** Eklavya's act of readily offering his thumb showcases his unwavering loyalty and commitment to his chosen teacher. He prioritized his guru's command above his personal aspirations, demonstrating the immense respect he held for Dronacharya.\n",
      "* **Ethical Dilemma:** The story has also been viewed as an ethical dilemma, raising questions about balancing loyalty to one's teacher with individual rights and aspirations. Dronacharya's action can be seen as exploiting Eklavya's devotion for the benefit of others.\n",
      "\n",
      "**Conclusion:**\n",
      "\n",
      "Dronacharya's decision to ask for Eklavya's thumb remains open to diverse interpretations. While some view it as a necessary act to fulfill his duty and maintain social order, others see it as an ethically questionable act that exploited Eklavya's devotion. Regardless of the interpretation, the story serves as a powerful reminder of the complex dynamics of loyalty, sacrifice, social hierarchy, and individual aspirations within the intricate world of the Mahabharata.\n",
      "\n",
      "**Additional Points:**\n",
      "\n",
      "* It's important to consider the context of the epic Mahabharata, where warrior skills and social status were closely intertwined.\n",
      "* The story has been retold and interpreted in various ways throughout history, reflecting different perspectives and societal values.\n",
      "* The tale continues to spark debate and reflection on the balance between loyalty, duty, and individual sacrifice.\n",
      "\n",
      "I hope this comprehensive explanation provides a helpful understanding of the complex story of Dronacharya, Eklavya, and the thumb.\n",
      "\n"
     ]
    }
   ],
   "source": [
    "def print_response(prompt):\n",
    "\n",
    "    # TODO: Complete this line to generate a response to the prompt:\n",
    "    response = generative_model.generate_content(prompt)\n",
    "    print(response.text)\n",
    "\n",
    "    # TODO: Complete this line to print only the text of the model's response,\n",
    "    # not the additional response metadata.\n",
    "    print()\n",
    "    \n",
    "print_response(\"for what reason Dronacharya deied aekalavya for teaching him arcahrey in mahabaratha ?\")"
   ]
  },
  {
   "cell_type": "markdown",
   "metadata": {
    "id": "kEAJ0ipmbndQ"
   },
   "source": [
    "## Task 2. Personas\n",
    "\n",
    "1. Run the following cell to see the default response to this prompt.\n",
    "\n",
    "2. Then tweak the prompt by asking the model to take on the persona of an **energetic, inspiring personal trainer** who can get users **excited to work out their leg muscles**. Note the difference in vocabulary and tone."
   ]
  },
  {
   "cell_type": "code",
   "execution_count": 14,
   "metadata": {
    "id": "UEo0QhauK27D",
    "tags": []
   },
   "outputs": [
    {
     "name": "stdout",
     "output_type": "stream",
     "text": [
      "## Leg Exercises: Building Strength and Power\n",
      "\n",
      "Legs are the foundation of our bodies, responsible for locomotion, stability, and power. Engaging in regular leg exercise offers numerous physical and mental benefits, including:\n",
      "\n",
      "* **Increased strength and endurance:** Stronger leg muscles improve athletic performance, daily activities, and reduce injury risk.\n",
      "* **Improved cardiovascular health:** Leg exercises elevate heart rate, promoting healthy blood flow and reducing the risk of heart disease.\n",
      "* **Increased bone density:** Weight-bearing exercises like squats and lunges help strengthen bones and prevent osteoporosis.\n",
      "* **Improved balance and coordination:** Exercises like single-leg squats and lunges enhance balance and reduce fall risk.\n",
      "* **Boosted metabolism:** Muscle building increases your resting metabolic rate, promoting weight management and overall health.\n",
      "* **Enhanced mental well-being:** Exercise releases endorphins, improving mood and reducing stress.\n",
      "\n",
      "\n",
      "Here are some excellent leg exercises for various fitness levels and goals:\n",
      "\n",
      "**Beginner:**\n",
      "* **Bodyweight Squats:** Stand with feet hip-width apart, lower your hips towards the floor as if sitting in a chair, keeping your back straight and core engaged.\n",
      "* **Lunges:** Step forward with one leg, lowering your hips until both knees are bent at 90 degrees. Push off your front foot to return to starting position. Repeat on the other leg.\n",
      "* **Calf Raises:** Stand on the balls of your feet, lifting your heels off the ground. Hold for a second and then slowly lower. \n",
      "* **Wall Sits:** Lean against a wall with your knees bent at a 90-degree angle, as if sitting in a chair. Hold for as long as you can.\n",
      "\n",
      "**Intermediate:**\n",
      "* **Barbell Squats:** Perform bodyweight squats with a barbell resting on your upper back.\n",
      "* **Dumbbell Lunges:** Perform lunges with dumbbells in each hand.\n",
      "* **Bulgarian Split Squats:** Elevate your back foot on a bench and perform lunges.\n",
      "* **Leg Press:** Use a leg press machine to push weight with your legs.\n",
      "* **Hamstring Curls:** Use a weight machine to curl your hamstrings.\n",
      "\n",
      "**Advanced:**\n",
      "* **Pistol Squats:** Perform single-leg squats with your arms outstretched for balance.\n",
      "* **Jump Squats:** Explosively jump at the top of a squat.\n",
      "* **Box Jumps:** Jump onto a box or platform.\n",
      "* **Sled Push/Pull:** Push or pull a loaded sled for a set distance or time.\n",
      "* **Olympic Weightlifting:** Clean and Jerk, Snatch.\n",
      "\n",
      "**Important Tips:** \n",
      "\n",
      "* **Listen to your body:** Choose exercises that suit your current fitness level and gradually increase intensity and duration over time.\n",
      "* **Warm up properly:** Warm up your muscles and joints before each workout to reduce injury risk.\n",
      "* **Maintain proper form:** Focus on good technique to maximize results and avoid injury.\n",
      "* **Cool down and stretch:** Cool down after each workout and stretch major muscle groups to improve flexibility and reduce muscle soreness.\n",
      "\n",
      "**Remember to consult a healthcare professional before starting any new exercise program, especially if you have any pre-existing medical conditions.**\n",
      "\n",
      "With dedication and consistency, you can sculpt strong, powerful legs, improve your overall health and unlock peak performance in all aspects of your life.\n",
      "\n"
     ]
    }
   ],
   "source": [
    "# TODO: Improve the personality of the response by assigning the suggested persona.\n",
    "prompt = \"What are some good leg exercises?\"\n",
    "\n",
    "print_response(prompt)"
   ]
  },
  {
   "cell_type": "markdown",
   "metadata": {
    "id": "ueKZMheeK27D"
   },
   "source": [
    "## Task 3. Be specific + constrain the output format\n",
    "\n",
    "1. Have the model convert the following text of cooking ingredients to a YAML format. Each ingredient should be listed as a dictionary with keys for **ingredient** and **quantity** populated with the correct value given the ingredients in the following recipe:"
   ]
  },
  {
   "cell_type": "code",
   "execution_count": 15,
   "metadata": {
    "id": "qyJASDrsK27D",
    "tags": []
   },
   "outputs": [
    {
     "name": "stdout",
     "output_type": "stream",
     "text": [
      "## Ingredients:\n",
      "\n",
      "- ingredient: 9 egg whites\n",
      "  quantity: \n",
      "- ingredient: Cream of Tartar\n",
      "  quantity: 3/8 tsp\n",
      "- ingredient: Vinegar\n",
      "  quantity: 1 1/2 tbs\n",
      "- ingredient: Vanilla\n",
      "  quantity: 1 1/2 tsp\n",
      "- ingredient: Sugar\n",
      "  quantity: 3 cups\n",
      "- ingredient: Heavy whipping cream\n",
      "  quantity: 1 quarts\n",
      "- ingredient: Strawberries\n",
      "  quantity: 3 boxes\n",
      "\n",
      "\n"
     ]
    }
   ],
   "source": [
    "# TODO: Write instructions to complete the task.\n",
    "instructions = (\n",
    "\"Please convert the following list of cooking ingredients into YAML format. \"\n",
    "    \"Each ingredient should be represented as a dictionary with the keys 'ingredient' and 'quantity'. \"\n",
    "    \"Ensure that the output is properly formatted as valid YAML.\"\n",
    ")\n",
    "\n",
    "\n",
    "ingredients = \"\"\"\n",
    "    Ingredients:\n",
    "    * 9 egg whites\n",
    "    * 3/8 tsp Cream of Tartar\n",
    "    * 1 1/2 tbs Vinegar\n",
    "    * 1 1/2 tsp Vanilla\n",
    "    * 3 cups Sugar\n",
    "    * 1 quarts Heavy whipping cream\n",
    "    * 3 boxes Strawberries\n",
    "    \"\"\"\n",
    "\n",
    "prompt = instructions + \"\\n\\n\" + ingredients\n",
    "\n",
    "print_response(prompt)"
   ]
  },
  {
   "cell_type": "markdown",
   "metadata": {
    "id": "6xRk8HTLK27D"
   },
   "source": [
    "## Task 4. Use a fallback response\n",
    "\n",
    "1. Adjust the prompt below to specify that the model should only answer questions related to historical landmarks. If a user askes about something else, the model should respond with the message: `Sorry, I only answer questions about historical landmarks!`\n",
    "\n",
    "2. Adjust your instructions until the model declines to answer the `user_query` below."
   ]
  },
  {
   "cell_type": "code",
   "execution_count": 16,
   "metadata": {
    "id": "6InaQ3OpK27D",
    "tags": []
   },
   "outputs": [
    {
     "name": "stdout",
     "output_type": "stream",
     "text": [
      "Sorry, I only answer questions about historical landmarks!\n",
      "\n"
     ]
    }
   ],
   "source": [
    "# TODO: Add instructions to prompt a fallback response for off-topic queries.\n",
    "\n",
    "\n",
    "instructions = (\"You are a history tour guide. You only answer questions related to historical landmarks. \"\n",
    "    \"If the question is about something else, respond with: 'Sorry, I only answer questions about historical landmarks!' \"\n",
    "    \"Answer the user's question: {user_query}\")\n",
    "\n",
    "user_query = \"How can I attract butterflies to my garden?\"\n",
    "\n",
    "print_response(instructions.format(user_query=user_query))"
   ]
  },
  {
   "cell_type": "markdown",
   "metadata": {
    "id": "gFolKJjNK27D"
   },
   "source": [
    "## Task 5. Make results more specific with examples\n",
    "\n",
    "1. Run the code cell below to see the model's response as-is.\n",
    "\n",
    "2. Imagining you work for a bicycle tour company, modify each of the example outputs below to include a bicycle.\n",
    "\n",
    "3. Re-run the code cell to make sure the model generates a bicycle-themed response. Leave the instructions alone and tweak your examples until you get such a response."
   ]
  },
  {
   "cell_type": "code",
   "execution_count": 20,
   "metadata": {
    "id": "zsjp39ZWK27D",
    "tags": []
   },
   "outputs": [
    {
     "name": "stdout",
     "output_type": "stream",
     "text": [
      "Take a taxi to Lalbagh Botanical Garden. Afterwards, visit the Bangalore Palace.\n",
      "\n"
     ]
    }
   ],
   "source": [
    "# TODO: Modify the examples below to guide the model to always generate\n",
    "# recommendations involving bicycles.\n",
    "\n",
    "prompt = \"\"\"\n",
    "    <INSTRUCTIONS>\n",
    "    Give a tourist recommendation for the input city.\n",
    "    </INSTRUCTIONS>\n",
    "\n",
    "    <EXAMPLES>\n",
    "    Input: Paris\n",
    "    Output: Take a taxi to the Louvre and then to Montmartre.\n",
    "\n",
    "    Input: Washington D.C.\n",
    "    Output: Drive your rental car to the Lincoln Memorial.\n",
    "\n",
    "    Input: New York City\n",
    "    Output: Walk along the river.\n",
    "    </EXAMPLES>\n",
    "\n",
    "    <INPUT CITY>\n",
    "    Bangalore\n",
    "    </INPUT CITY>\"\"\"\n",
    "\n",
    "print_response(prompt)"
   ]
  },
  {
   "cell_type": "code",
   "execution_count": 21,
   "metadata": {
    "tags": []
   },
   "outputs": [
    {
     "name": "stdout",
     "output_type": "stream",
     "text": [
      "In Bangalore, immerse yourself in its vibrant energy by combining nature and culture:\n",
      "\n",
      "**1. Explore Lalbagh Botanical Garden:** Rent a bicycle and cycle through the lush greenery of Lalbagh Botanical Garden. Admire the diverse plant life, historical monuments, and serene lakes on your scenic ride.\n",
      "\n",
      "**2. Cycle to Vidhana Soudha:** Witness the architectural grandeur of Vidhana Soudha, the state legislature building, while enjoying a relaxing bicycle ride. Explore the surrounding Cubbon Park, a green oasis amidst the city.\n",
      "\n",
      "**3. Cycle Along Sankey Tank:** Discover the charm of Sankey Tank by renting a bicycle and cycling along its scenic walkway. Enjoy picturesque views of the lake, bird watching, and street food stalls offering local delicacies.\n",
      "\n",
      "**4. Explore Ulsoor Lake:** Rent a bicycle and experience the serene ambiance of Ulsoor Lake. Cycle around the lake, enjoying views of the city skyline and vibrant surroundings, while taking a break by the waterfront cafes.\n",
      "\n",
      "**5. Cycle to Bannerghatta National Park:** For thrill-seeking adventurers, rent a bicycle and embark on a guided cycling tour within Bannerghatta National Park. Observe diverse wildlife amidst the natural landscape on this unique outdoor adventure.\n",
      "\n",
      "\n"
     ]
    }
   ],
   "source": [
    "# Revised prompt to ensure bicycle-themed recommendations are generated\n",
    "prompt = \"\"\"\n",
    "    <INSTRUCTIONS>\n",
    "    Give a tourist recommendation for the input city, ensuring to include a bicycle in the activity.\n",
    "    </INSTRUCTIONS>\n",
    "\n",
    "    <EXAMPLES>\n",
    "    Input: Paris\n",
    "    Output: Rent a bicycle and ride along the Seine, stopping at the Louvre and then cycling up to Montmartre for a scenic view.\n",
    "\n",
    "    Input: Washington D.C.\n",
    "    Output: Rent a bike to cycle to the Lincoln Memorial, and enjoy the ride along the National Mall while visiting the monuments.\n",
    "\n",
    "    Input: New York City\n",
    "    Output: Rent a bicycle and explore Central Park, then ride along the Hudson River Greenway, stopping at waterfront parks.\n",
    "    </EXAMPLES>\n",
    "\n",
    "    <INPUT CITY>\n",
    "    Bangalore\n",
    "    </INPUT CITY>\"\"\"\n",
    "\n",
    "print_response(prompt)"
   ]
  },
  {
   "cell_type": "markdown",
   "metadata": {
    "id": "LvbIXnwqK27D"
   },
   "source": [
    "## Congratulations!\n",
    "\n",
    "If you have completed the steps above, you have demonstrated your ability to use several prompt engineering techniques."
   ]
  },
  {
   "cell_type": "code",
   "execution_count": null,
   "metadata": {},
   "outputs": [],
   "source": []
  }
 ],
 "metadata": {
  "colab": {
   "name": "text_prompt_design_challenge_lab.ipynb",
   "provenance": [],
   "toc_visible": true
  },
  "environment": {
   "kernel": "conda-base-py",
   "name": "workbench-notebooks.m126",
   "type": "gcloud",
   "uri": "us-docker.pkg.dev/deeplearning-platform-release/gcr.io/workbench-notebooks:m126"
  },
  "kernelspec": {
   "display_name": "Python 3 (ipykernel) (Local)",
   "language": "python",
   "name": "conda-base-py"
  },
  "language_info": {
   "codemirror_mode": {
    "name": "ipython",
    "version": 3
   },
   "file_extension": ".py",
   "mimetype": "text/x-python",
   "name": "python",
   "nbconvert_exporter": "python",
   "pygments_lexer": "ipython3",
   "version": "3.10.15"
  }
 },
 "nbformat": 4,
 "nbformat_minor": 4
}
